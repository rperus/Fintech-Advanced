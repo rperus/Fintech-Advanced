{
 "cells": [
  {
   "cell_type": "code",
   "execution_count": 2,
   "metadata": {},
   "outputs": [],
   "source": [
    "import numpy as np\n",
    "import matplotlib.pyplot as plt"
   ]
  },
  {
   "cell_type": "code",
   "execution_count": 4,
   "metadata": {},
   "outputs": [],
   "source": [
    "y = [-10,1,9]\n",
    "x = [-8,3,5]"
   ]
  },
  {
   "cell_type": "code",
   "execution_count": 5,
   "metadata": {},
   "outputs": [],
   "source": [
    "def  cal_cost(beta0,beta1,x,y):\n",
    "        n = len(y)\n",
    "        predictions = beta0 + np.multiply(beta1,x)\n",
    "        cost = (1/2*n) * np.sum(np.square(predictions-y))\n",
    "        return cost"
   ]
  },
  {
   "cell_type": "code",
   "execution_count": 6,
   "metadata": {},
   "outputs": [],
   "source": [
    "iterations = 500\n",
    "learningrate = 0.01\n",
    "beta0 = -11\n",
    "beta1 = 0\n",
    "n = len(y)\n",
    "index = np.arange(1, iterations+1, 1).reshape((iterations, 1))\n",
    "\n",
    "loss_history = np.zeros((iterations,1))\n",
    "beta0_history = np.zeros((iterations,1))\n",
    "beta1_history = np.zeros((iterations,1))\n",
    "\n",
    "for i in range(iterations):\n",
    "       \n",
    "        prediction = beta0 + np.multiply(beta1,x)\n",
    "        residuals = y-prediction\n",
    "        residuals_sum = sum(residuals)\n",
    "        beta0_gradient = -(1/n)*residuals_sum*(learningrate)\n",
    "        beta0 = beta0 - beta0_gradient\n",
    "        beta0_history[i] = beta0\n",
    "    \n",
    "        residuals_x = np.multiply(residuals,x)\n",
    "        residuals_x_sum = sum(residuals_x)\n",
    "        beta1_gradient = -(1/n)*residuals_x_sum*(learningrate)\n",
    "        beta1 = beta1 - beta1_gradient\n",
    "        beta1_history[i] = beta1\n",
    "    \n",
    "        loss_history[i] = cal_cost(beta0,beta1,x,y)"
   ]
  },
  {
   "cell_type": "code",
   "execution_count": 15,
   "metadata": {},
   "outputs": [
    {
     "data": {
      "text/plain": [
       "[<matplotlib.lines.Line2D at 0x2ba8c64e130>]"
      ]
     },
     "execution_count": 15,
     "metadata": {},
     "output_type": "execute_result"
    },
    {
     "data": {
      "image/png": "[encoded data removed]",
      "text/plain": [
       "<Figure size 432x288 with 3 Axes>"
      ]
     },
     "metadata": {
      "needs_background": "light"
     },
     "output_type": "display_data"
    }
   ],
   "source": [
    "plt.subplot(311)\n",
    "plt.plot(index, beta0_history,'go')\n",
    "plt.subplot(312)\n",
    "plt.plot(index, beta1_history,'go')\n",
    "plt.subplot(313)\n",
    "plt.plot(index, loss_history,'go')"
   ]
  }
 ],
 "metadata": {
  "kernelspec": {
   "display_name": "Python 3",
   "language": "python",
   "name": "python3"
  },
  "language_info": {
   "codemirror_mode": {
    "name": "ipython",
    "version": 3
   },
   "file_extension": ".py",
   "mimetype": "text/x-python",
   "name": "python",
   "nbconvert_exporter": "python",
   "pygments_lexer": "ipython3",
   "version": "3.8.5"
  }
 },
 "nbformat": 4,
 "nbformat_minor": 4
}
