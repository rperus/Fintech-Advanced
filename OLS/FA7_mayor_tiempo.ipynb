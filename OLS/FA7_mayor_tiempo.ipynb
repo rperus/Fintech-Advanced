{
 "cells": [
  {
   "cell_type": "code",
   "execution_count": 56,
   "metadata": {},
   "outputs": [],
   "source": [
    "import numpy as np\n",
    "import matplotlib.pyplot as plt\n",
    "import quandl \n",
    "import requests \n",
    "import json \n",
    "import pandas as pd \n",
    "import datetime \n"
   ]
  },
  {
   "cell_type": "markdown",
   "metadata": {},
   "source": [
    "# OLS estimates  from standard OLS formula"
   ]
  },
  {
   "cell_type": "markdown",
   "metadata": {},
   "source": [
    "### Bitcoin Daily Time series from 2017-01-01 to 2021-07-01 using QUANDL API"
   ]
  },
  {
   "cell_type": "code",
   "execution_count": 279,
   "metadata": {},
   "outputs": [
    {
     "data": {
      "text/html": [
       "<div>\n",
       "<style scoped>\n",
       "    .dataframe tbody tr th:only-of-type {\n",
       "        vertical-align: middle;\n",
       "    }\n",
       "\n",
       "    .dataframe tbody tr th {\n",
       "        vertical-align: top;\n",
       "    }\n",
       "\n",
       "    .dataframe thead th {\n",
       "        text-align: right;\n",
       "    }\n",
       "</style>\n",
       "<table border=\"1\" class=\"dataframe\">\n",
       "  <thead>\n",
       "    <tr style=\"text-align: right;\">\n",
       "      <th></th>\n",
       "      <th>time</th>\n",
       "      <th>High</th>\n",
       "      <th>Low</th>\n",
       "      <th>Mid</th>\n",
       "      <th>Last</th>\n",
       "      <th>Bid</th>\n",
       "      <th>Ask</th>\n",
       "      <th>Volume</th>\n",
       "    </tr>\n",
       "  </thead>\n",
       "  <tbody>\n",
       "    <tr>\n",
       "      <th>0</th>\n",
       "      <td>2017-01-01</td>\n",
       "      <td>968.2</td>\n",
       "      <td>945.01</td>\n",
       "      <td>966.995</td>\n",
       "      <td>966.610000</td>\n",
       "      <td>966.62</td>\n",
       "      <td>967.37</td>\n",
       "      <td>7147.774423</td>\n",
       "    </tr>\n",
       "    <tr>\n",
       "      <th>1</th>\n",
       "      <td>2017-01-02</td>\n",
       "      <td>1006.5</td>\n",
       "      <td>961.26</td>\n",
       "      <td>998.290</td>\n",
       "      <td>999.240000</td>\n",
       "      <td>997.34</td>\n",
       "      <td>999.24</td>\n",
       "      <td>13440.456264</td>\n",
       "    </tr>\n",
       "    <tr>\n",
       "      <th>2</th>\n",
       "      <td>2017-01-03</td>\n",
       "      <td>1035.0</td>\n",
       "      <td>994.10</td>\n",
       "      <td>1019.450</td>\n",
       "      <td>1019.500000</td>\n",
       "      <td>1019.30</td>\n",
       "      <td>1019.60</td>\n",
       "      <td>21804.197216</td>\n",
       "    </tr>\n",
       "    <tr>\n",
       "      <th>3</th>\n",
       "      <td>2017-01-04</td>\n",
       "      <td>1040.0</td>\n",
       "      <td>1013.50</td>\n",
       "      <td>1038.500</td>\n",
       "      <td>1038.000000</td>\n",
       "      <td>1038.00</td>\n",
       "      <td>1039.00</td>\n",
       "      <td>14128.625714</td>\n",
       "    </tr>\n",
       "    <tr>\n",
       "      <th>4</th>\n",
       "      <td>2017-01-05</td>\n",
       "      <td>1150.0</td>\n",
       "      <td>1036.40</td>\n",
       "      <td>1138.650</td>\n",
       "      <td>1139.600000</td>\n",
       "      <td>1138.60</td>\n",
       "      <td>1138.70</td>\n",
       "      <td>53698.692041</td>\n",
       "    </tr>\n",
       "    <tr>\n",
       "      <th>...</th>\n",
       "      <td>...</td>\n",
       "      <td>...</td>\n",
       "      <td>...</td>\n",
       "      <td>...</td>\n",
       "      <td>...</td>\n",
       "      <td>...</td>\n",
       "      <td>...</td>\n",
       "      <td>...</td>\n",
       "    </tr>\n",
       "    <tr>\n",
       "      <th>1609</th>\n",
       "      <td>2021-06-27</td>\n",
       "      <td>34380.0</td>\n",
       "      <td>31799.00</td>\n",
       "      <td>34247.500</td>\n",
       "      <td>34265.396951</td>\n",
       "      <td>34243.00</td>\n",
       "      <td>34252.00</td>\n",
       "      <td>29518.794084</td>\n",
       "    </tr>\n",
       "    <tr>\n",
       "      <th>1610</th>\n",
       "      <td>2021-06-28</td>\n",
       "      <td>35319.0</td>\n",
       "      <td>33897.00</td>\n",
       "      <td>34424.000</td>\n",
       "      <td>34428.482199</td>\n",
       "      <td>34419.00</td>\n",
       "      <td>34429.00</td>\n",
       "      <td>6583.076066</td>\n",
       "    </tr>\n",
       "    <tr>\n",
       "      <th>1611</th>\n",
       "      <td>2021-06-29</td>\n",
       "      <td>36600.0</td>\n",
       "      <td>34151.00</td>\n",
       "      <td>36154.000</td>\n",
       "      <td>36142.000000</td>\n",
       "      <td>36153.00</td>\n",
       "      <td>36155.00</td>\n",
       "      <td>5442.171284</td>\n",
       "    </tr>\n",
       "    <tr>\n",
       "      <th>1612</th>\n",
       "      <td>2021-06-30</td>\n",
       "      <td>36197.0</td>\n",
       "      <td>34428.00</td>\n",
       "      <td>34885.500</td>\n",
       "      <td>34888.368009</td>\n",
       "      <td>34881.00</td>\n",
       "      <td>34890.00</td>\n",
       "      <td>3345.769838</td>\n",
       "    </tr>\n",
       "    <tr>\n",
       "      <th>1613</th>\n",
       "      <td>2021-07-01</td>\n",
       "      <td>35218.0</td>\n",
       "      <td>32720.00</td>\n",
       "      <td>33582.500</td>\n",
       "      <td>33588.846394</td>\n",
       "      <td>33578.00</td>\n",
       "      <td>33587.00</td>\n",
       "      <td>5803.385196</td>\n",
       "    </tr>\n",
       "  </tbody>\n",
       "</table>\n",
       "<p>1614 rows × 8 columns</p>\n",
       "</div>"
      ],
      "text/plain": [
       "           time     High       Low        Mid          Last       Bid  \\\n",
       "0    2017-01-01    968.2    945.01    966.995    966.610000    966.62   \n",
       "1    2017-01-02   1006.5    961.26    998.290    999.240000    997.34   \n",
       "2    2017-01-03   1035.0    994.10   1019.450   1019.500000   1019.30   \n",
       "3    2017-01-04   1040.0   1013.50   1038.500   1038.000000   1038.00   \n",
       "4    2017-01-05   1150.0   1036.40   1138.650   1139.600000   1138.60   \n",
       "...         ...      ...       ...        ...           ...       ...   \n",
       "1609 2021-06-27  34380.0  31799.00  34247.500  34265.396951  34243.00   \n",
       "1610 2021-06-28  35319.0  33897.00  34424.000  34428.482199  34419.00   \n",
       "1611 2021-06-29  36600.0  34151.00  36154.000  36142.000000  36153.00   \n",
       "1612 2021-06-30  36197.0  34428.00  34885.500  34888.368009  34881.00   \n",
       "1613 2021-07-01  35218.0  32720.00  33582.500  33588.846394  33578.00   \n",
       "\n",
       "           Ask        Volume  \n",
       "0       967.37   7147.774423  \n",
       "1       999.24  13440.456264  \n",
       "2      1019.60  21804.197216  \n",
       "3      1039.00  14128.625714  \n",
       "4      1138.70  53698.692041  \n",
       "...        ...           ...  \n",
       "1609  34252.00  29518.794084  \n",
       "1610  34429.00   6583.076066  \n",
       "1611  36155.00   5442.171284  \n",
       "1612  34890.00   3345.769838  \n",
       "1613  33587.00   5803.385196  \n",
       "\n",
       "[1614 rows x 8 columns]"
      ]
     },
     "execution_count": 279,
     "metadata": {},
     "output_type": "execute_result"
    }
   ],
   "source": [
    "#Obtain BTC prices from Qualdl \n",
    "quandl.ApiConfig.api_key = 'a9NejCNZWKHWyyWRQ2wP'\n",
    "x =quandl.get('BITFINEX/BTCUSD', start_date='2017-01-01', end_date='2021-07-01')\n",
    "x=x.reset_index()\n",
    "x=x.rename(columns={\"Date\": \"time\"})\n",
    "x"
   ]
  },
  {
   "cell_type": "markdown",
   "metadata": {},
   "source": [
    "### Etherium Daily Time series from 2017-01-01 to 2021-07-01 using CRYPTOCOMPARE API"
   ]
  },
  {
   "cell_type": "code",
   "execution_count": 235,
   "metadata": {},
   "outputs": [
    {
     "data": {
      "text/plain": [
       "'https://min-api.cryptocompare.com/data/histoday?fsym=ETH&tsym=USD&limit=2000&api_key=C370e1baf8f2aedafb5e730b7c103cf0ff064111eca3b0860878dcf47ec2457e'"
      ]
     },
     "execution_count": 235,
     "metadata": {},
     "output_type": "execute_result"
    }
   ],
   "source": [
    "#Obtain ETH prices from Cryptocompare for the last 2000days\n",
    "my_crypto_key = \"C370e1baf8f2aedafb5e730b7c103cf0ff064111eca3b0860878dcf47ec2457e\"\n",
    "URL_A = 'https://min-api.cryptocompare.com/data/histoday?fsym=ETH&tsym=USD&limit=2000&api_key=' \n",
    "URL = URL_A + my_crypto_key \n",
    "URL"
   ]
  },
  {
   "cell_type": "code",
   "execution_count": 280,
   "metadata": {},
   "outputs": [
    {
     "data": {
      "text/html": [
       "<div>\n",
       "<style scoped>\n",
       "    .dataframe tbody tr th:only-of-type {\n",
       "        vertical-align: middle;\n",
       "    }\n",
       "\n",
       "    .dataframe tbody tr th {\n",
       "        vertical-align: top;\n",
       "    }\n",
       "\n",
       "    .dataframe thead th {\n",
       "        text-align: right;\n",
       "    }\n",
       "</style>\n",
       "<table border=\"1\" class=\"dataframe\">\n",
       "  <thead>\n",
       "    <tr style=\"text-align: right;\">\n",
       "      <th></th>\n",
       "      <th>time</th>\n",
       "      <th>high</th>\n",
       "    </tr>\n",
       "  </thead>\n",
       "  <tbody>\n",
       "    <tr>\n",
       "      <th>336</th>\n",
       "      <td>2017-01-01</td>\n",
       "      <td>8.891</td>\n",
       "    </tr>\n",
       "    <tr>\n",
       "      <th>337</th>\n",
       "      <td>2017-01-02</td>\n",
       "      <td>8.568</td>\n",
       "    </tr>\n",
       "    <tr>\n",
       "      <th>338</th>\n",
       "      <td>2017-01-03</td>\n",
       "      <td>9.940</td>\n",
       "    </tr>\n",
       "    <tr>\n",
       "      <th>339</th>\n",
       "      <td>2017-01-04</td>\n",
       "      <td>11.500</td>\n",
       "    </tr>\n",
       "    <tr>\n",
       "      <th>340</th>\n",
       "      <td>2017-01-05</td>\n",
       "      <td>10.370</td>\n",
       "    </tr>\n",
       "    <tr>\n",
       "      <th>...</th>\n",
       "      <td>...</td>\n",
       "      <td>...</td>\n",
       "    </tr>\n",
       "    <tr>\n",
       "      <th>1974</th>\n",
       "      <td>2021-06-27</td>\n",
       "      <td>1984.580</td>\n",
       "    </tr>\n",
       "    <tr>\n",
       "      <th>1975</th>\n",
       "      <td>2021-06-28</td>\n",
       "      <td>2143.600</td>\n",
       "    </tr>\n",
       "    <tr>\n",
       "      <th>1976</th>\n",
       "      <td>2021-06-29</td>\n",
       "      <td>2245.380</td>\n",
       "    </tr>\n",
       "    <tr>\n",
       "      <th>1977</th>\n",
       "      <td>2021-06-30</td>\n",
       "      <td>2287.050</td>\n",
       "    </tr>\n",
       "    <tr>\n",
       "      <th>1978</th>\n",
       "      <td>2021-07-01</td>\n",
       "      <td>2277.050</td>\n",
       "    </tr>\n",
       "  </tbody>\n",
       "</table>\n",
       "<p>1643 rows × 2 columns</p>\n",
       "</div>"
      ],
      "text/plain": [
       "           time      high\n",
       "336  2017-01-01     8.891\n",
       "337  2017-01-02     8.568\n",
       "338  2017-01-03     9.940\n",
       "339  2017-01-04    11.500\n",
       "340  2017-01-05    10.370\n",
       "...         ...       ...\n",
       "1974 2021-06-27  1984.580\n",
       "1975 2021-06-28  2143.600\n",
       "1976 2021-06-29  2245.380\n",
       "1977 2021-06-30  2287.050\n",
       "1978 2021-07-01  2277.050\n",
       "\n",
       "[1643 rows x 2 columns]"
      ]
     },
     "execution_count": 280,
     "metadata": {},
     "output_type": "execute_result"
    }
   ],
   "source": [
    "#Convert Jason to a DataFrame\n",
    "data = requests.get(URL) \n",
    "json_data = data.json() \n",
    "table = pd.json_normalize(json_data, 'Data').set_index('time')\n",
    "table.index = pd.to_datetime(table.index , unit='s')\n",
    "#Select the highest price and the date from 2017-01-01 to 2021-07-01\n",
    "y=table[['high']]\n",
    "y=y.reset_index()\n",
    "start_date = \"2017-01-01\"\n",
    "end_date = \"2021-07-01\"\n",
    "after_start_date = y['time'] >= start_date\n",
    "before_end_date = y['time'] <= end_date\n",
    "y = y.loc[after_start_date & before_end_date]\n",
    "y"
   ]
  },
  {
   "cell_type": "markdown",
   "metadata": {},
   "source": [
    "We can observe that despite having the same dates, different numbers of days are obtained, since BITFINEX (Quandl) did not register every day. So the dataframes are going to be merged by date."
   ]
  },
  {
   "cell_type": "code",
   "execution_count": 281,
   "metadata": {},
   "outputs": [
    {
     "data": {
      "text/html": [
       "<div>\n",
       "<style scoped>\n",
       "    .dataframe tbody tr th:only-of-type {\n",
       "        vertical-align: middle;\n",
       "    }\n",
       "\n",
       "    .dataframe tbody tr th {\n",
       "        vertical-align: top;\n",
       "    }\n",
       "\n",
       "    .dataframe thead th {\n",
       "        text-align: right;\n",
       "    }\n",
       "</style>\n",
       "<table border=\"1\" class=\"dataframe\">\n",
       "  <thead>\n",
       "    <tr style=\"text-align: right;\">\n",
       "      <th></th>\n",
       "      <th>time</th>\n",
       "      <th>High</th>\n",
       "      <th>Low</th>\n",
       "      <th>Mid</th>\n",
       "      <th>Last</th>\n",
       "      <th>Bid</th>\n",
       "      <th>Ask</th>\n",
       "      <th>Volume</th>\n",
       "      <th>high</th>\n",
       "    </tr>\n",
       "  </thead>\n",
       "  <tbody>\n",
       "    <tr>\n",
       "      <th>0</th>\n",
       "      <td>2017-01-01</td>\n",
       "      <td>968.2</td>\n",
       "      <td>945.01</td>\n",
       "      <td>966.995</td>\n",
       "      <td>966.610000</td>\n",
       "      <td>966.62</td>\n",
       "      <td>967.37</td>\n",
       "      <td>7147.774423</td>\n",
       "      <td>8.891</td>\n",
       "    </tr>\n",
       "    <tr>\n",
       "      <th>1</th>\n",
       "      <td>2017-01-02</td>\n",
       "      <td>1006.5</td>\n",
       "      <td>961.26</td>\n",
       "      <td>998.290</td>\n",
       "      <td>999.240000</td>\n",
       "      <td>997.34</td>\n",
       "      <td>999.24</td>\n",
       "      <td>13440.456264</td>\n",
       "      <td>8.568</td>\n",
       "    </tr>\n",
       "    <tr>\n",
       "      <th>2</th>\n",
       "      <td>2017-01-03</td>\n",
       "      <td>1035.0</td>\n",
       "      <td>994.10</td>\n",
       "      <td>1019.450</td>\n",
       "      <td>1019.500000</td>\n",
       "      <td>1019.30</td>\n",
       "      <td>1019.60</td>\n",
       "      <td>21804.197216</td>\n",
       "      <td>9.940</td>\n",
       "    </tr>\n",
       "    <tr>\n",
       "      <th>3</th>\n",
       "      <td>2017-01-04</td>\n",
       "      <td>1040.0</td>\n",
       "      <td>1013.50</td>\n",
       "      <td>1038.500</td>\n",
       "      <td>1038.000000</td>\n",
       "      <td>1038.00</td>\n",
       "      <td>1039.00</td>\n",
       "      <td>14128.625714</td>\n",
       "      <td>11.500</td>\n",
       "    </tr>\n",
       "    <tr>\n",
       "      <th>4</th>\n",
       "      <td>2017-01-05</td>\n",
       "      <td>1150.0</td>\n",
       "      <td>1036.40</td>\n",
       "      <td>1138.650</td>\n",
       "      <td>1139.600000</td>\n",
       "      <td>1138.60</td>\n",
       "      <td>1138.70</td>\n",
       "      <td>53698.692041</td>\n",
       "      <td>10.370</td>\n",
       "    </tr>\n",
       "    <tr>\n",
       "      <th>...</th>\n",
       "      <td>...</td>\n",
       "      <td>...</td>\n",
       "      <td>...</td>\n",
       "      <td>...</td>\n",
       "      <td>...</td>\n",
       "      <td>...</td>\n",
       "      <td>...</td>\n",
       "      <td>...</td>\n",
       "      <td>...</td>\n",
       "    </tr>\n",
       "    <tr>\n",
       "      <th>1609</th>\n",
       "      <td>2021-06-27</td>\n",
       "      <td>34380.0</td>\n",
       "      <td>31799.00</td>\n",
       "      <td>34247.500</td>\n",
       "      <td>34265.396951</td>\n",
       "      <td>34243.00</td>\n",
       "      <td>34252.00</td>\n",
       "      <td>29518.794084</td>\n",
       "      <td>1984.580</td>\n",
       "    </tr>\n",
       "    <tr>\n",
       "      <th>1610</th>\n",
       "      <td>2021-06-28</td>\n",
       "      <td>35319.0</td>\n",
       "      <td>33897.00</td>\n",
       "      <td>34424.000</td>\n",
       "      <td>34428.482199</td>\n",
       "      <td>34419.00</td>\n",
       "      <td>34429.00</td>\n",
       "      <td>6583.076066</td>\n",
       "      <td>2143.600</td>\n",
       "    </tr>\n",
       "    <tr>\n",
       "      <th>1611</th>\n",
       "      <td>2021-06-29</td>\n",
       "      <td>36600.0</td>\n",
       "      <td>34151.00</td>\n",
       "      <td>36154.000</td>\n",
       "      <td>36142.000000</td>\n",
       "      <td>36153.00</td>\n",
       "      <td>36155.00</td>\n",
       "      <td>5442.171284</td>\n",
       "      <td>2245.380</td>\n",
       "    </tr>\n",
       "    <tr>\n",
       "      <th>1612</th>\n",
       "      <td>2021-06-30</td>\n",
       "      <td>36197.0</td>\n",
       "      <td>34428.00</td>\n",
       "      <td>34885.500</td>\n",
       "      <td>34888.368009</td>\n",
       "      <td>34881.00</td>\n",
       "      <td>34890.00</td>\n",
       "      <td>3345.769838</td>\n",
       "      <td>2287.050</td>\n",
       "    </tr>\n",
       "    <tr>\n",
       "      <th>1613</th>\n",
       "      <td>2021-07-01</td>\n",
       "      <td>35218.0</td>\n",
       "      <td>32720.00</td>\n",
       "      <td>33582.500</td>\n",
       "      <td>33588.846394</td>\n",
       "      <td>33578.00</td>\n",
       "      <td>33587.00</td>\n",
       "      <td>5803.385196</td>\n",
       "      <td>2277.050</td>\n",
       "    </tr>\n",
       "  </tbody>\n",
       "</table>\n",
       "<p>1614 rows × 9 columns</p>\n",
       "</div>"
      ],
      "text/plain": [
       "           time     High       Low        Mid          Last       Bid  \\\n",
       "0    2017-01-01    968.2    945.01    966.995    966.610000    966.62   \n",
       "1    2017-01-02   1006.5    961.26    998.290    999.240000    997.34   \n",
       "2    2017-01-03   1035.0    994.10   1019.450   1019.500000   1019.30   \n",
       "3    2017-01-04   1040.0   1013.50   1038.500   1038.000000   1038.00   \n",
       "4    2017-01-05   1150.0   1036.40   1138.650   1139.600000   1138.60   \n",
       "...         ...      ...       ...        ...           ...       ...   \n",
       "1609 2021-06-27  34380.0  31799.00  34247.500  34265.396951  34243.00   \n",
       "1610 2021-06-28  35319.0  33897.00  34424.000  34428.482199  34419.00   \n",
       "1611 2021-06-29  36600.0  34151.00  36154.000  36142.000000  36153.00   \n",
       "1612 2021-06-30  36197.0  34428.00  34885.500  34888.368009  34881.00   \n",
       "1613 2021-07-01  35218.0  32720.00  33582.500  33588.846394  33578.00   \n",
       "\n",
       "           Ask        Volume      high  \n",
       "0       967.37   7147.774423     8.891  \n",
       "1       999.24  13440.456264     8.568  \n",
       "2      1019.60  21804.197216     9.940  \n",
       "3      1039.00  14128.625714    11.500  \n",
       "4      1138.70  53698.692041    10.370  \n",
       "...        ...           ...       ...  \n",
       "1609  34252.00  29518.794084  1984.580  \n",
       "1610  34429.00   6583.076066  2143.600  \n",
       "1611  36155.00   5442.171284  2245.380  \n",
       "1612  34890.00   3345.769838  2287.050  \n",
       "1613  33587.00   5803.385196  2277.050  \n",
       "\n",
       "[1614 rows x 9 columns]"
      ]
     },
     "execution_count": 281,
     "metadata": {},
     "output_type": "execute_result"
    }
   ],
   "source": [
    "df_merge_col = pd.merge(x, y, on='time')\n",
    "df_merge_col"
   ]
  },
  {
   "cell_type": "code",
   "execution_count": 282,
   "metadata": {},
   "outputs": [
    {
     "data": {
      "text/plain": [
       "Text(0, 0.5, 'y (ETH)')"
      ]
     },
     "execution_count": 282,
     "metadata": {},
     "output_type": "execute_result"
    },
    {
     "data": {
      "image/png": "[encoded data removed]",
      "text/plain": [
       "<Figure size 432x288 with 1 Axes>"
      ]
     },
     "metadata": {
      "needs_background": "light"
     },
     "output_type": "display_data"
    }
   ],
   "source": [
    "#x(BTC) and y(ETH) are obtained from the Dataframe\n",
    "x=df_merge_col[['High']]\n",
    "y=df_merge_col[['high']]\n",
    "# Plot of X and Y\n",
    "plt.scatter(x,y,alpha=.3)\n",
    "plt.xlabel(\"x (BTC)\")\n",
    "plt.ylabel(\"y (ETH)\")"
   ]
  },
  {
   "cell_type": "code",
   "execution_count": 284,
   "metadata": {},
   "outputs": [
    {
     "data": {
      "text/plain": [
       "numpy.ndarray"
      ]
     },
     "execution_count": 284,
     "metadata": {},
     "output_type": "execute_result"
    }
   ],
   "source": [
    "x=np.array(x)\n",
    "y=np.array(y)\n",
    "type(x)"
   ]
  },
  {
   "cell_type": "markdown",
   "metadata": {},
   "source": [
    "## OLS estimates of $\\beta$  and  $\\alpha$"
   ]
  },
  {
   "cell_type": "code",
   "execution_count": 285,
   "metadata": {},
   "outputs": [
    {
     "name": "stdout",
     "output_type": "stream",
     "text": [
      "alpha = -17.142561169657483 \n",
      "beta = 0.04400889347009375\n"
     ]
    }
   ],
   "source": [
    "#Beta and Alpha\n",
    "beta = ((np.multiply(y, x)).mean()-np.mean(x)*np.mean(y))/((np.multiply(x, x)).mean()-np.mean(x)*np.mean(x))\n",
    "alpha =np.mean(y)-beta*np.mean(x)\n",
    "print(\"alpha =\",alpha, \"\\nbeta =\",beta)"
   ]
  },
  {
   "cell_type": "code",
   "execution_count": 286,
   "metadata": {},
   "outputs": [
    {
     "data": {
      "text/plain": [
       "153424382.53527787"
      ]
     },
     "execution_count": 286,
     "metadata": {},
     "output_type": "execute_result"
    }
   ],
   "source": [
    "#Error\n",
    "y_hat = alpha + np.multiply(beta,x)\n",
    "L = np.sum(np.multiply(y - y_hat,y - y_hat))\n",
    "L\n"
   ]
  },
  {
   "cell_type": "code",
   "execution_count": 292,
   "metadata": {},
   "outputs": [
    {
     "data": {
      "image/png": "[encoded data removed]",
      "text/plain": [
       "<Figure size 432x288 with 1 Axes>"
      ]
     },
     "metadata": {
      "needs_background": "light"
     },
     "output_type": "display_data"
    }
   ],
   "source": [
    "# Plot OSL\n",
    "plt.scatter(x,y,alpha=.3)\n",
    "plt.xlabel(\"x (BTC)\")\n",
    "plt.ylabel(\"y (ETH)\")\n",
    "plt.plot([968,66000],[alpha+beta*968,alpha+beta*66000], c=\"red\")\n",
    "plt.show()"
   ]
  },
  {
   "cell_type": "code",
   "execution_count": null,
   "metadata": {},
   "outputs": [],
   "source": [
    "x1= np.array([np.ones(1614)])"
   ]
  },
  {
   "cell_type": "code",
   "execution_count": null,
   "metadata": {},
   "outputs": [],
   "source": []
  },
  {
   "cell_type": "code",
   "execution_count": null,
   "metadata": {},
   "outputs": [],
   "source": []
  },
  {
   "cell_type": "code",
   "execution_count": null,
   "metadata": {},
   "outputs": [],
   "source": []
  },
  {
   "cell_type": "code",
   "execution_count": 148,
   "metadata": {},
   "outputs": [],
   "source": [
    "#coins = pd.concat([coins, table.high],  axis=1) \n",
    "#coins.columns = pair \n",
    "#coins"
   ]
  },
  {
   "cell_type": "code",
   "execution_count": null,
   "metadata": {},
   "outputs": [],
   "source": []
  }
 ],
 "metadata": {
  "kernelspec": {
   "display_name": "Python 3",
   "language": "python",
   "name": "python3"
  },
  "language_info": {
   "codemirror_mode": {
    "name": "ipython",
    "version": 3
   },
   "file_extension": ".py",
   "mimetype": "text/x-python",
   "name": "python",
   "nbconvert_exporter": "python",
   "pygments_lexer": "ipython3",
   "version": "3.8.5"
  }
 },
 "nbformat": 4,
 "nbformat_minor": 4
}
