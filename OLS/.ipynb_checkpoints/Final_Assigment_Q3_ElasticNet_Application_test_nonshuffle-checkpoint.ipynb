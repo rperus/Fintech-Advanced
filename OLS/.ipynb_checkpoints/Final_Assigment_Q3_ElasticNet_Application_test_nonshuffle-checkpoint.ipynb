{
 "cells": [
  {
   "cell_type": "code",
   "execution_count": 91,
   "id": "e4b5fb8a",
   "metadata": {},
   "outputs": [],
   "source": [
    "#pip install yfinance\n",
    "#from sklearn.neural_network import MLPRegressor\n",
    "from sklearn.metrics import mean_squared_error\n",
    "import seaborn as sns\n",
    "#import talib as ta\n",
    "import pandas as pd\n",
    "import matplotlib.pyplot as plt \n",
    "import numpy as np\n",
    "from sklearn.ensemble import RandomForestClassifier\n",
    "#from sklearn.metrics import confusion_matrix, classification_report\n",
    "from sklearn.preprocessing import StandardScaler, LabelEncoder \n",
    "from sklearn.model_selection import train_test_split\n",
    "#from sklearn.preprocessing import MinMaxScaler\n",
    "#from sklearn.pipeline import Pipeline\n",
    "#from sklearn.metrics import roc_auc_score, roc_curve, accuracy_score\n",
    "#from sklearn import preprocessing\n",
    "#from sklearn import utils"
   ]
  },
  {
   "cell_type": "markdown",
   "id": "954fcac4",
   "metadata": {},
   "source": [
    "# Open data"
   ]
  },
  {
   "cell_type": "code",
   "execution_count": 2,
   "id": "d4a72d34",
   "metadata": {
    "scrolled": true
   },
   "outputs": [
    {
     "data": {
      "text/html": [
       "<div>\n",
       "<style scoped>\n",
       "    .dataframe tbody tr th:only-of-type {\n",
       "        vertical-align: middle;\n",
       "    }\n",
       "\n",
       "    .dataframe tbody tr th {\n",
       "        vertical-align: top;\n",
       "    }\n",
       "\n",
       "    .dataframe thead th {\n",
       "        text-align: right;\n",
       "    }\n",
       "</style>\n",
       "<table border=\"1\" class=\"dataframe\">\n",
       "  <thead>\n",
       "    <tr style=\"text-align: right;\">\n",
       "      <th></th>\n",
       "      <th>Date</th>\n",
       "      <th>Close</th>\n",
       "      <th>Open_lag1</th>\n",
       "      <th>High_lag1</th>\n",
       "      <th>Low_lag1</th>\n",
       "      <th>Close_lag1</th>\n",
       "      <th>Adj Close_lag1</th>\n",
       "      <th>Volume_lag1</th>\n",
       "      <th>AROONOSC_lag1</th>\n",
       "      <th>RSI_lag1</th>\n",
       "      <th>...</th>\n",
       "      <th>AD_lag1</th>\n",
       "      <th>OBV_lag1</th>\n",
       "      <th>ATR_lag1</th>\n",
       "      <th>NATR_lag1</th>\n",
       "      <th>TRANGE_lag1</th>\n",
       "      <th>CDLENGULFING_lag1</th>\n",
       "      <th>CDLHANGINGMAN_lag1</th>\n",
       "      <th>CDLSHOOTINGSTAR_lag1</th>\n",
       "      <th>CDLHAMMER_lag1</th>\n",
       "      <th>Unnamed: 21</th>\n",
       "    </tr>\n",
       "  </thead>\n",
       "  <tbody>\n",
       "    <tr>\n",
       "      <th>0</th>\n",
       "      <td>13/10/2017</td>\n",
       "      <td>5647.209961</td>\n",
       "      <td>4829.580078</td>\n",
       "      <td>5446.910156</td>\n",
       "      <td>4822.000000</td>\n",
       "      <td>5446.910156</td>\n",
       "      <td>5446.910156</td>\n",
       "      <td>2.791610e+09</td>\n",
       "      <td>100.000000</td>\n",
       "      <td>95.599259</td>\n",
       "      <td>...</td>\n",
       "      <td>5.757130e+09</td>\n",
       "      <td>1.382015e+10</td>\n",
       "      <td>245.291755</td>\n",
       "      <td>3.627589</td>\n",
       "      <td>197.591518</td>\n",
       "      <td>0</td>\n",
       "      <td>0</td>\n",
       "      <td>0</td>\n",
       "      <td>0</td>\n",
       "      <td>NaN</td>\n",
       "    </tr>\n",
       "    <tr>\n",
       "      <th>1</th>\n",
       "      <td>14/10/2017</td>\n",
       "      <td>5831.790039</td>\n",
       "      <td>5464.160156</td>\n",
       "      <td>5840.299805</td>\n",
       "      <td>5436.850098</td>\n",
       "      <td>5647.209961</td>\n",
       "      <td>5647.209961</td>\n",
       "      <td>3.615480e+09</td>\n",
       "      <td>100.000000</td>\n",
       "      <td>96.443426</td>\n",
       "      <td>...</td>\n",
       "      <td>5.911893e+09</td>\n",
       "      <td>1.743563e+10</td>\n",
       "      <td>271.651413</td>\n",
       "      <td>3.759302</td>\n",
       "      <td>212.295674</td>\n",
       "      <td>0</td>\n",
       "      <td>0</td>\n",
       "      <td>0</td>\n",
       "      <td>0</td>\n",
       "      <td>NaN</td>\n",
       "    </tr>\n",
       "    <tr>\n",
       "      <th>2</th>\n",
       "      <td>15/10/2017</td>\n",
       "      <td>5678.189941</td>\n",
       "      <td>5643.529785</td>\n",
       "      <td>5837.700195</td>\n",
       "      <td>5591.640137</td>\n",
       "      <td>5831.790039</td>\n",
       "      <td>5831.790039</td>\n",
       "      <td>1.669030e+09</td>\n",
       "      <td>83.333333</td>\n",
       "      <td>97.065831</td>\n",
       "      <td>...</td>\n",
       "      <td>7.500746e+09</td>\n",
       "      <td>1.910466e+10</td>\n",
       "      <td>267.386188</td>\n",
       "      <td>3.681673</td>\n",
       "      <td>214.707416</td>\n",
       "      <td>0</td>\n",
       "      <td>0</td>\n",
       "      <td>0</td>\n",
       "      <td>0</td>\n",
       "      <td>NaN</td>\n",
       "    </tr>\n",
       "    <tr>\n",
       "      <th>3</th>\n",
       "      <td>16/10/2017</td>\n",
       "      <td>5725.589844</td>\n",
       "      <td>5835.959961</td>\n",
       "      <td>5852.479980</td>\n",
       "      <td>5478.609863</td>\n",
       "      <td>5678.189941</td>\n",
       "      <td>5678.189941</td>\n",
       "      <td>1.976040e+09</td>\n",
       "      <td>100.000000</td>\n",
       "      <td>82.626458</td>\n",
       "      <td>...</td>\n",
       "      <td>7.634413e+09</td>\n",
       "      <td>1.712862e+10</td>\n",
       "      <td>285.133509</td>\n",
       "      <td>3.981483</td>\n",
       "      <td>226.076180</td>\n",
       "      <td>0</td>\n",
       "      <td>0</td>\n",
       "      <td>0</td>\n",
       "      <td>0</td>\n",
       "      <td>NaN</td>\n",
       "    </tr>\n",
       "    <tr>\n",
       "      <th>4</th>\n",
       "      <td>17/10/2017</td>\n",
       "      <td>5605.509766</td>\n",
       "      <td>5687.569824</td>\n",
       "      <td>5776.229980</td>\n",
       "      <td>5544.209961</td>\n",
       "      <td>5725.589844</td>\n",
       "      <td>5725.589844</td>\n",
       "      <td>2.008070e+09</td>\n",
       "      <td>66.666667</td>\n",
       "      <td>83.533546</td>\n",
       "      <td>...</td>\n",
       "      <td>8.765930e+09</td>\n",
       "      <td>1.913669e+10</td>\n",
       "      <td>276.281261</td>\n",
       "      <td>3.955937</td>\n",
       "      <td>226.500740</td>\n",
       "      <td>0</td>\n",
       "      <td>0</td>\n",
       "      <td>0</td>\n",
       "      <td>0</td>\n",
       "      <td>NaN</td>\n",
       "    </tr>\n",
       "  </tbody>\n",
       "</table>\n",
       "<p>5 rows × 22 columns</p>\n",
       "</div>"
      ],
      "text/plain": [
       "         Date        Close    Open_lag1    High_lag1     Low_lag1  \\\n",
       "0  13/10/2017  5647.209961  4829.580078  5446.910156  4822.000000   \n",
       "1  14/10/2017  5831.790039  5464.160156  5840.299805  5436.850098   \n",
       "2  15/10/2017  5678.189941  5643.529785  5837.700195  5591.640137   \n",
       "3  16/10/2017  5725.589844  5835.959961  5852.479980  5478.609863   \n",
       "4  17/10/2017  5605.509766  5687.569824  5776.229980  5544.209961   \n",
       "\n",
       "    Close_lag1  Adj Close_lag1   Volume_lag1  AROONOSC_lag1   RSI_lag1  ...  \\\n",
       "0  5446.910156     5446.910156  2.791610e+09     100.000000  95.599259  ...   \n",
       "1  5647.209961     5647.209961  3.615480e+09     100.000000  96.443426  ...   \n",
       "2  5831.790039     5831.790039  1.669030e+09      83.333333  97.065831  ...   \n",
       "3  5678.189941     5678.189941  1.976040e+09     100.000000  82.626458  ...   \n",
       "4  5725.589844     5725.589844  2.008070e+09      66.666667  83.533546  ...   \n",
       "\n",
       "        AD_lag1      OBV_lag1    ATR_lag1  NATR_lag1  TRANGE_lag1  \\\n",
       "0  5.757130e+09  1.382015e+10  245.291755   3.627589   197.591518   \n",
       "1  5.911893e+09  1.743563e+10  271.651413   3.759302   212.295674   \n",
       "2  7.500746e+09  1.910466e+10  267.386188   3.681673   214.707416   \n",
       "3  7.634413e+09  1.712862e+10  285.133509   3.981483   226.076180   \n",
       "4  8.765930e+09  1.913669e+10  276.281261   3.955937   226.500740   \n",
       "\n",
       "   CDLENGULFING_lag1  CDLHANGINGMAN_lag1  CDLSHOOTINGSTAR_lag1  \\\n",
       "0                  0                   0                     0   \n",
       "1                  0                   0                     0   \n",
       "2                  0                   0                     0   \n",
       "3                  0                   0                     0   \n",
       "4                  0                   0                     0   \n",
       "\n",
       "   CDLHAMMER_lag1  Unnamed: 21  \n",
       "0               0          NaN  \n",
       "1               0          NaN  \n",
       "2               0          NaN  \n",
       "3               0          NaN  \n",
       "4               0          NaN  \n",
       "\n",
       "[5 rows x 22 columns]"
      ]
     },
     "execution_count": 2,
     "metadata": {},
     "output_type": "execute_result"
    }
   ],
   "source": [
    "#Open Data, generated in the last question.\n",
    "df=pd.read_csv('BTC_TECH_ANAL1.csv')\n",
    "df.head()"
   ]
  },
  {
   "cell_type": "code",
   "execution_count": 112,
   "id": "57c11713",
   "metadata": {},
   "outputs": [],
   "source": [
    "#Separate the dataset in dependent an independent variable\n",
    "# X tech indicators without AT\n",
    "X=df.drop(['Date', 'Close','Open_lag1','High_lag1','Low_lag1','Close_lag1','Adj Close_lag1','Volume_lag1','Unnamed: 21','ATR_lag1','RSI1_lag1','AD_lag1'], axis=1)\n",
    "# y is Close BTC Price\n",
    "y=df['Close']"
   ]
  },
  {
   "cell_type": "code",
   "execution_count": 26,
   "id": "59924348",
   "metadata": {},
   "outputs": [
    {
     "data": {
      "text/html": [
       "<div>\n",
       "<style scoped>\n",
       "    .dataframe tbody tr th:only-of-type {\n",
       "        vertical-align: middle;\n",
       "    }\n",
       "\n",
       "    .dataframe tbody tr th {\n",
       "        vertical-align: top;\n",
       "    }\n",
       "\n",
       "    .dataframe thead th {\n",
       "        text-align: right;\n",
       "    }\n",
       "</style>\n",
       "<table border=\"1\" class=\"dataframe\">\n",
       "  <thead>\n",
       "    <tr style=\"text-align: right;\">\n",
       "      <th></th>\n",
       "      <th>AROONOSC_lag1</th>\n",
       "      <th>RSI_lag1</th>\n",
       "      <th>DX_lag1</th>\n",
       "      <th>OBV_lag1</th>\n",
       "      <th>NATR_lag1</th>\n",
       "      <th>TRANGE_lag1</th>\n",
       "      <th>CDLENGULFING_lag1</th>\n",
       "      <th>CDLHANGINGMAN_lag1</th>\n",
       "      <th>CDLSHOOTINGSTAR_lag1</th>\n",
       "      <th>CDLHAMMER_lag1</th>\n",
       "    </tr>\n",
       "  </thead>\n",
       "  <tbody>\n",
       "    <tr>\n",
       "      <th>AROONOSC_lag1</th>\n",
       "      <td>1.000000</td>\n",
       "      <td>0.751186</td>\n",
       "      <td>0.066016</td>\n",
       "      <td>0.114718</td>\n",
       "      <td>-0.177959</td>\n",
       "      <td>-0.031008</td>\n",
       "      <td>0.069388</td>\n",
       "      <td>-0.005549</td>\n",
       "      <td>-0.044710</td>\n",
       "      <td>-0.095964</td>\n",
       "    </tr>\n",
       "    <tr>\n",
       "      <th>RSI_lag1</th>\n",
       "      <td>0.751186</td>\n",
       "      <td>1.000000</td>\n",
       "      <td>0.047264</td>\n",
       "      <td>0.164944</td>\n",
       "      <td>-0.267501</td>\n",
       "      <td>-0.051737</td>\n",
       "      <td>0.166334</td>\n",
       "      <td>-0.047903</td>\n",
       "      <td>-0.067331</td>\n",
       "      <td>-0.096228</td>\n",
       "    </tr>\n",
       "    <tr>\n",
       "      <th>DX_lag1</th>\n",
       "      <td>0.066016</td>\n",
       "      <td>0.047264</td>\n",
       "      <td>1.000000</td>\n",
       "      <td>0.024605</td>\n",
       "      <td>-0.009513</td>\n",
       "      <td>0.001504</td>\n",
       "      <td>-0.015437</td>\n",
       "      <td>0.037952</td>\n",
       "      <td>-0.024863</td>\n",
       "      <td>-0.024902</td>\n",
       "    </tr>\n",
       "    <tr>\n",
       "      <th>OBV_lag1</th>\n",
       "      <td>0.114718</td>\n",
       "      <td>0.164944</td>\n",
       "      <td>0.024605</td>\n",
       "      <td>1.000000</td>\n",
       "      <td>0.095164</td>\n",
       "      <td>0.748881</td>\n",
       "      <td>0.057848</td>\n",
       "      <td>-0.010977</td>\n",
       "      <td>0.009854</td>\n",
       "      <td>-0.035679</td>\n",
       "    </tr>\n",
       "    <tr>\n",
       "      <th>NATR_lag1</th>\n",
       "      <td>-0.177959</td>\n",
       "      <td>-0.267501</td>\n",
       "      <td>-0.009513</td>\n",
       "      <td>0.095164</td>\n",
       "      <td>1.000000</td>\n",
       "      <td>0.577738</td>\n",
       "      <td>-0.083389</td>\n",
       "      <td>0.013482</td>\n",
       "      <td>0.029817</td>\n",
       "      <td>0.013423</td>\n",
       "    </tr>\n",
       "    <tr>\n",
       "      <th>TRANGE_lag1</th>\n",
       "      <td>-0.031008</td>\n",
       "      <td>-0.051737</td>\n",
       "      <td>0.001504</td>\n",
       "      <td>0.748881</td>\n",
       "      <td>0.577738</td>\n",
       "      <td>1.000000</td>\n",
       "      <td>0.009727</td>\n",
       "      <td>0.009415</td>\n",
       "      <td>0.019172</td>\n",
       "      <td>-0.033627</td>\n",
       "    </tr>\n",
       "    <tr>\n",
       "      <th>CDLENGULFING_lag1</th>\n",
       "      <td>0.069388</td>\n",
       "      <td>0.166334</td>\n",
       "      <td>-0.015437</td>\n",
       "      <td>0.057848</td>\n",
       "      <td>-0.083389</td>\n",
       "      <td>0.009727</td>\n",
       "      <td>1.000000</td>\n",
       "      <td>0.020587</td>\n",
       "      <td>0.003701</td>\n",
       "      <td>-0.018461</td>\n",
       "    </tr>\n",
       "    <tr>\n",
       "      <th>CDLHANGINGMAN_lag1</th>\n",
       "      <td>-0.005549</td>\n",
       "      <td>-0.047903</td>\n",
       "      <td>0.037952</td>\n",
       "      <td>-0.010977</td>\n",
       "      <td>0.013482</td>\n",
       "      <td>0.009415</td>\n",
       "      <td>0.020587</td>\n",
       "      <td>1.000000</td>\n",
       "      <td>-0.014302</td>\n",
       "      <td>-0.031382</td>\n",
       "    </tr>\n",
       "    <tr>\n",
       "      <th>CDLSHOOTINGSTAR_lag1</th>\n",
       "      <td>-0.044710</td>\n",
       "      <td>-0.067331</td>\n",
       "      <td>-0.024863</td>\n",
       "      <td>0.009854</td>\n",
       "      <td>0.029817</td>\n",
       "      <td>0.019172</td>\n",
       "      <td>0.003701</td>\n",
       "      <td>-0.014302</td>\n",
       "      <td>1.000000</td>\n",
       "      <td>0.019596</td>\n",
       "    </tr>\n",
       "    <tr>\n",
       "      <th>CDLHAMMER_lag1</th>\n",
       "      <td>-0.095964</td>\n",
       "      <td>-0.096228</td>\n",
       "      <td>-0.024902</td>\n",
       "      <td>-0.035679</td>\n",
       "      <td>0.013423</td>\n",
       "      <td>-0.033627</td>\n",
       "      <td>-0.018461</td>\n",
       "      <td>-0.031382</td>\n",
       "      <td>0.019596</td>\n",
       "      <td>1.000000</td>\n",
       "    </tr>\n",
       "  </tbody>\n",
       "</table>\n",
       "</div>"
      ],
      "text/plain": [
       "                      AROONOSC_lag1  RSI_lag1   DX_lag1  OBV_lag1  NATR_lag1  \\\n",
       "AROONOSC_lag1              1.000000  0.751186  0.066016  0.114718  -0.177959   \n",
       "RSI_lag1                   0.751186  1.000000  0.047264  0.164944  -0.267501   \n",
       "DX_lag1                    0.066016  0.047264  1.000000  0.024605  -0.009513   \n",
       "OBV_lag1                   0.114718  0.164944  0.024605  1.000000   0.095164   \n",
       "NATR_lag1                 -0.177959 -0.267501 -0.009513  0.095164   1.000000   \n",
       "TRANGE_lag1               -0.031008 -0.051737  0.001504  0.748881   0.577738   \n",
       "CDLENGULFING_lag1          0.069388  0.166334 -0.015437  0.057848  -0.083389   \n",
       "CDLHANGINGMAN_lag1        -0.005549 -0.047903  0.037952 -0.010977   0.013482   \n",
       "CDLSHOOTINGSTAR_lag1      -0.044710 -0.067331 -0.024863  0.009854   0.029817   \n",
       "CDLHAMMER_lag1            -0.095964 -0.096228 -0.024902 -0.035679   0.013423   \n",
       "\n",
       "                      TRANGE_lag1  CDLENGULFING_lag1  CDLHANGINGMAN_lag1  \\\n",
       "AROONOSC_lag1           -0.031008           0.069388           -0.005549   \n",
       "RSI_lag1                -0.051737           0.166334           -0.047903   \n",
       "DX_lag1                  0.001504          -0.015437            0.037952   \n",
       "OBV_lag1                 0.748881           0.057848           -0.010977   \n",
       "NATR_lag1                0.577738          -0.083389            0.013482   \n",
       "TRANGE_lag1              1.000000           0.009727            0.009415   \n",
       "CDLENGULFING_lag1        0.009727           1.000000            0.020587   \n",
       "CDLHANGINGMAN_lag1       0.009415           0.020587            1.000000   \n",
       "CDLSHOOTINGSTAR_lag1     0.019172           0.003701           -0.014302   \n",
       "CDLHAMMER_lag1          -0.033627          -0.018461           -0.031382   \n",
       "\n",
       "                      CDLSHOOTINGSTAR_lag1  CDLHAMMER_lag1  \n",
       "AROONOSC_lag1                    -0.044710       -0.095964  \n",
       "RSI_lag1                         -0.067331       -0.096228  \n",
       "DX_lag1                          -0.024863       -0.024902  \n",
       "OBV_lag1                          0.009854       -0.035679  \n",
       "NATR_lag1                         0.029817        0.013423  \n",
       "TRANGE_lag1                       0.019172       -0.033627  \n",
       "CDLENGULFING_lag1                 0.003701       -0.018461  \n",
       "CDLHANGINGMAN_lag1               -0.014302       -0.031382  \n",
       "CDLSHOOTINGSTAR_lag1              1.000000        0.019596  \n",
       "CDLHAMMER_lag1                    0.019596        1.000000  "
      ]
     },
     "metadata": {},
     "output_type": "display_data"
    },
    {
     "data": {
      "image/png": "[encoded data removed]",
      "text/plain": [
       "<Figure size 432x288 with 2 Axes>"
      ]
     },
     "metadata": {
      "needs_background": "light"
     },
     "output_type": "display_data"
    }
   ],
   "source": [
    "#Drop correlated variables ATR_lag1, RSI1_lag1 & AD_lag1\n",
    "corr=X.corr()\n",
    "display(corr)\n",
    "sns.heatmap(corr, xticklabels=corr.columns, yticklabels=corr.columns, cmap='RdBu')\n",
    "plt.title('Correlation heatmap plot.', fontsize=19,  color='red')\n",
    "plt.show()"
   ]
  },
  {
   "cell_type": "code",
   "execution_count": 27,
   "id": "b4a8f373",
   "metadata": {},
   "outputs": [],
   "source": [
    "# Split Train and Test Data\n",
    "X_train, X_test, y_train, y_test = train_test_split(X,y,random_state=42)"
   ]
  },
  {
   "cell_type": "code",
   "execution_count": 83,
   "id": "685ec46c",
   "metadata": {},
   "outputs": [],
   "source": [
    "#Standard Scaling training set\n",
    "sc=StandardScaler()\n",
    "X_train = sc.fit_transform(X_train)\n",
    "X_test= sc.transform(X_test)"
   ]
  },
  {
   "cell_type": "markdown",
   "id": "d37637e2",
   "metadata": {},
   "source": [
    "# 3.3 Support Vector Machines"
   ]
  },
  {
   "cell_type": "code",
   "execution_count": 92,
   "id": "5b81accc",
   "metadata": {},
   "outputs": [],
   "source": [
    "#Support Vector Model\n",
    "from sklearn import svm\n",
    "svm_= svm.SVR()\n",
    "svm_.fit(X_train,y_train)\n",
    "y_predict=svm_.predict(X_test)"
   ]
  },
  {
   "cell_type": "code",
   "execution_count": 93,
   "id": "b78125cb",
   "metadata": {},
   "outputs": [
    {
     "name": "stdout",
     "output_type": "stream",
     "text": [
      "163268553.93019083\n"
     ]
    }
   ],
   "source": [
    "#Mean Squared Error\n",
    "print(mean_squared_error(y_test, y_predict))"
   ]
  },
  {
   "cell_type": "code",
   "execution_count": null,
   "id": "dbc9d396",
   "metadata": {},
   "outputs": [],
   "source": []
  },
  {
   "cell_type": "markdown",
   "id": "704363d6",
   "metadata": {},
   "source": [
    "# 3.4 Decision Tree Model"
   ]
  },
  {
   "cell_type": "code",
   "execution_count": 100,
   "id": "ed737342",
   "metadata": {},
   "outputs": [],
   "source": [
    "# Decision Tree\n",
    "from sklearn import tree\n",
    "dt= tree.DecisionTreeRegressor()\n",
    "dt.fit(X_train,y_train)\n",
    "y_predict=dt.predict(X_test)"
   ]
  },
  {
   "cell_type": "code",
   "execution_count": 101,
   "id": "d93b8eaf",
   "metadata": {},
   "outputs": [
    {
     "name": "stdout",
     "output_type": "stream",
     "text": [
      "2026574.7447137102\n"
     ]
    }
   ],
   "source": [
    "print(mean_squared_error(y_test, y_predict))"
   ]
  },
  {
   "cell_type": "code",
   "execution_count": 111,
   "id": "28669683",
   "metadata": {},
   "outputs": [
    {
     "data": {
      "text/plain": [
       "array([0.74350217, 0.73739054, 0.64626638, 0.75827873, 0.83967345,\n",
       "       0.81252907, 0.65789309, 0.82947964, 0.66813193, 0.72894449])"
      ]
     },
     "execution_count": 111,
     "metadata": {},
     "output_type": "execute_result"
    }
   ],
   "source": [
    "#score(X_test, y_predict[,sample_weight=None])\n",
    "from sklearn.model_selection import cross_val_score\n",
    "#score(X_test, y_predict, sample_weight=None)\n",
    "cross_val_score(dt, X_test, X_test, cv=10)"
   ]
  },
  {
   "cell_type": "markdown",
   "id": "07cafbc0",
   "metadata": {},
   "source": [
    "# Ordinary Least Squares"
   ]
  },
  {
   "cell_type": "code",
   "execution_count": 72,
   "id": "ed668f90",
   "metadata": {},
   "outputs": [],
   "source": [
    "from sklearn import linear_model\n",
    "reg = linear_model.LinearRegression()\n",
    "reg.fit(X_train,y_train)\n",
    "reg.coef_\n",
    "y_predict=reg.predict(X_test)"
   ]
  },
  {
   "cell_type": "code",
   "execution_count": 73,
   "id": "9529bd25",
   "metadata": {},
   "outputs": [
    {
     "name": "stdout",
     "output_type": "stream",
     "text": [
      "10937309.488104336\n"
     ]
    }
   ],
   "source": [
    "print(mean_squared_error(y_test, y_predict))"
   ]
  },
  {
   "cell_type": "code",
   "execution_count": 115,
   "id": "48f66576",
   "metadata": {},
   "outputs": [],
   "source": [
    "coef=reg.coef_"
   ]
  },
  {
   "cell_type": "code",
   "execution_count": 122,
   "id": "2f5007ca",
   "metadata": {},
   "outputs": [],
   "source": [
    "#BTC_actual=data_scaled[['Close']]  es y\n",
    "BTC_fitted= X.dot(coef)\n",
    "#acrual values is y\n",
    "BTC_actual=y\n",
    "\n",
    "date=df['Date']"
   ]
  },
  {
   "cell_type": "code",
   "execution_count": 127,
   "id": "29667e75",
   "metadata": {},
   "outputs": [
    {
     "data": {
      "text/plain": [
       "0        5647.209961\n",
       "1        5831.790039\n",
       "2        5678.189941\n",
       "3        5725.589844\n",
       "4        5605.509766\n",
       "            ...     \n",
       "1349    34649.644530\n",
       "1350    34434.335940\n",
       "1351    35867.777340\n",
       "1352    35040.835940\n",
       "1353    33572.117190\n",
       "Name: Close, Length: 1354, dtype: float64"
      ]
     },
     "execution_count": 127,
     "metadata": {},
     "output_type": "execute_result"
    }
   ],
   "source": [
    "y"
   ]
  },
  {
   "cell_type": "code",
   "execution_count": 128,
   "id": "17a144ec",
   "metadata": {},
   "outputs": [
    {
     "data": {
      "image/png": "[encoded data removed]",
      "text/plain": [
       "<Figure size 1008x576 with 1 Axes>"
      ]
     },
     "metadata": {
      "needs_background": "light"
     },
     "output_type": "display_data"
    }
   ],
   "source": [
    "#Comparisson of BTC actual values and predicted values\n",
    "plt.figure(figsize=(14, 8))\n",
    "#plt.plot(BTC_fitted.index, BTC_fitted, c='darkblue',label='Predicted Value')\n",
    "plt.plot(y.index, BTC_actual, c='red',label='Actual BTC Value')\n",
    "plt.legend(prop=dict(size=15))\n",
    "plt.xlabel('DATE', fontsize=15)\n",
    "plt.show()"
   ]
  },
  {
   "cell_type": "code",
   "execution_count": 121,
   "id": "07a5e5cb",
   "metadata": {},
   "outputs": [
    {
     "data": {
      "text/plain": [
       "0       5.251424e+13\n",
       "1       6.625246e+13\n",
       "2       7.259449e+13\n",
       "3       6.508587e+13\n",
       "4       7.271620e+13\n",
       "            ...     \n",
       "1349    6.006242e+15\n",
       "1350    6.141212e+15\n",
       "1351    6.012398e+15\n",
       "1352    6.156450e+15\n",
       "1353    6.027027e+15\n",
       "Length: 1354, dtype: float64"
      ]
     },
     "execution_count": 121,
     "metadata": {},
     "output_type": "execute_result"
    }
   ],
   "source": [
    "BTC_fitted"
   ]
  },
  {
   "cell_type": "markdown",
   "id": "c8fa1c7a",
   "metadata": {},
   "source": [
    "# Bayesian Regression¶"
   ]
  },
  {
   "cell_type": "code",
   "execution_count": 104,
   "id": "c6ae6cf9",
   "metadata": {},
   "outputs": [],
   "source": [
    "from sklearn import linear_model\n",
    "reg = linear_model.BayesianRidge()\n",
    "reg.fit(X_train,y_train)\n",
    "y_predict=reg.predict(X_test)"
   ]
  },
  {
   "cell_type": "code",
   "execution_count": 105,
   "id": "7f43479d",
   "metadata": {},
   "outputs": [
    {
     "name": "stdout",
     "output_type": "stream",
     "text": [
      "10916266.716870684\n"
     ]
    }
   ],
   "source": [
    "print(mean_squared_error(y_test, y_predict))"
   ]
  },
  {
   "cell_type": "code",
   "execution_count": 106,
   "id": "5a7be4c7",
   "metadata": {},
   "outputs": [
    {
     "data": {
      "text/plain": [
       "array([ 2.70478989e+02,  2.57960566e+02,  1.04082800e+02,  3.79983193e+03,\n",
       "       -2.85731759e+03,  1.14688645e+04, -2.00595523e+02, -1.73805154e+01,\n",
       "       -6.24430276e+01, -6.46696225e-01])"
      ]
     },
     "execution_count": 106,
     "metadata": {},
     "output_type": "execute_result"
    }
   ],
   "source": [
    "reg.coef_"
   ]
  },
  {
   "cell_type": "markdown",
   "id": "ccb39a99",
   "metadata": {},
   "source": [
    "# ElasticNet "
   ]
  },
  {
   "cell_type": "code",
   "execution_count": 77,
   "id": "12478e48",
   "metadata": {},
   "outputs": [],
   "source": [
    "from sklearn.linear_model import ElasticNet\n",
    "model = ElasticNet(alpha=0.0001, l1_ratio=0.5,normalize=False)\n",
    "model.fit(X_train, y_train)\n",
    "y_predict=reg.predict(X_test)"
   ]
  },
  {
   "cell_type": "code",
   "execution_count": 78,
   "id": "70df7711",
   "metadata": {},
   "outputs": [
    {
     "name": "stdout",
     "output_type": "stream",
     "text": [
      "10916266.716870671\n"
     ]
    }
   ],
   "source": [
    "print(mean_squared_error(y_test, y_predict))"
   ]
  },
  {
   "cell_type": "code",
   "execution_count": null,
   "id": "7413b978",
   "metadata": {},
   "outputs": [],
   "source": []
  },
  {
   "cell_type": "code",
   "execution_count": 348,
   "id": "6231669c",
   "metadata": {},
   "outputs": [],
   "source": []
  },
  {
   "cell_type": "code",
   "execution_count": null,
   "id": "d59ad1d5",
   "metadata": {},
   "outputs": [],
   "source": []
  },
  {
   "cell_type": "code",
   "execution_count": 586,
   "id": "26a95859",
   "metadata": {},
   "outputs": [
    {
     "name": "stdout",
     "output_type": "stream",
     "text": [
      "AROONOSC_lag1 : 0.0034852923505982103\n",
      "RSI_lag1 : -0.0\n",
      "RSI1_lag1 : 0.01142857285654937\n",
      "DX_lag1 : 0.0038680399481646906\n",
      "AD_lag1 : 0.10642634384873408\n",
      "OBV_lag1 : 0.07328293186382188\n",
      "ATR_lag1 : 0.06474945481246612\n",
      "NATR_lag1 : -0.1511765509819744\n",
      "TRANGE_lag1 : 0.7826581067274684\n",
      "CDLENGULFING_lag1 : -0.002606840947162683\n",
      "CDLHANGINGMAN_lag1 : 0.00017576926266141138\n",
      "CDLSHOOTINGSTAR_lag1 : 5.4012996158095144e-05\n",
      "CDLHAMMER_lag1 : 0.0002688964817339358\n"
     ]
    }
   ],
   "source": [
    "#Coefficients for each variable\n",
    "coef = list(model.coef_)\n",
    "count = 0\n",
    "for i in X.columns:\n",
    "    print(i,':',coef[count])\n",
    "    count+= 1"
   ]
  },
  {
   "cell_type": "code",
   "execution_count": 587,
   "id": "09e829dc",
   "metadata": {},
   "outputs": [
    {
     "data": {
      "text/plain": [
       "Date\n",
       "2021-06-27    1.986563\n",
       "2021-06-28    2.009079\n",
       "2021-06-29    1.914264\n",
       "2021-06-30    1.913477\n",
       "2021-07-01    1.846690\n",
       "dtype: float64"
      ]
     },
     "execution_count": 587,
     "metadata": {},
     "output_type": "execute_result"
    }
   ],
   "source": [
    "#Forecast Values of BTC\n",
    "BTC_fitted= X.dot(coef)\n",
    "BTC_fitted.tail()"
   ]
  },
  {
   "cell_type": "code",
   "execution_count": 588,
   "id": "ea5aeb95",
   "metadata": {},
   "outputs": [
    {
     "data": {
      "text/html": [
       "<div>\n",
       "<style scoped>\n",
       "    .dataframe tbody tr th:only-of-type {\n",
       "        vertical-align: middle;\n",
       "    }\n",
       "\n",
       "    .dataframe tbody tr th {\n",
       "        vertical-align: top;\n",
       "    }\n",
       "\n",
       "    .dataframe thead th {\n",
       "        text-align: right;\n",
       "    }\n",
       "</style>\n",
       "<table border=\"1\" class=\"dataframe\">\n",
       "  <thead>\n",
       "    <tr style=\"text-align: right;\">\n",
       "      <th></th>\n",
       "      <th>Close</th>\n",
       "    </tr>\n",
       "    <tr>\n",
       "      <th>Date</th>\n",
       "      <th></th>\n",
       "    </tr>\n",
       "  </thead>\n",
       "  <tbody>\n",
       "    <tr>\n",
       "      <th>2021-06-27</th>\n",
       "      <td>1.533786</td>\n",
       "    </tr>\n",
       "    <tr>\n",
       "      <th>2021-06-28</th>\n",
       "      <td>1.517965</td>\n",
       "    </tr>\n",
       "    <tr>\n",
       "      <th>2021-06-29</th>\n",
       "      <td>1.623294</td>\n",
       "    </tr>\n",
       "    <tr>\n",
       "      <th>2021-06-30</th>\n",
       "      <td>1.562531</td>\n",
       "    </tr>\n",
       "    <tr>\n",
       "      <th>2021-07-01</th>\n",
       "      <td>1.454610</td>\n",
       "    </tr>\n",
       "  </tbody>\n",
       "</table>\n",
       "</div>"
      ],
      "text/plain": [
       "               Close\n",
       "Date                \n",
       "2021-06-27  1.533786\n",
       "2021-06-28  1.517965\n",
       "2021-06-29  1.623294\n",
       "2021-06-30  1.562531\n",
       "2021-07-01  1.454610"
      ]
     },
     "execution_count": 588,
     "metadata": {},
     "output_type": "execute_result"
    }
   ],
   "source": [
    "#Actual Values of BTC (scaled)\n",
    "BTC_actual=data_scaled[['Close']]\n",
    "BTC_actual.tail()"
   ]
  },
  {
   "cell_type": "code",
   "execution_count": 589,
   "id": "e7fcae00",
   "metadata": {},
   "outputs": [
    {
     "data": {
      "text/plain": [
       "Text(0.5, 0, 'DATE')"
      ]
     },
     "execution_count": 589,
     "metadata": {},
     "output_type": "execute_result"
    },
    {
     "data": {
      "image/png": "[encoded data removed]",
      "text/plain": [
       "<Figure size 1008x576 with 1 Axes>"
      ]
     },
     "metadata": {
      "needs_background": "light"
     },
     "output_type": "display_data"
    }
   ],
   "source": [
    "#Comparisson of BTC actual values and predicted values\n",
    "plt.figure(figsize=(14, 8))\n",
    "plt.plot(data_scaled.index, BTC_fitted, c='darkblue',label='Predicted Value')\n",
    "plt.plot(data_scaled.index, BTC_actual, c='red',label='Actual BTC Value')\n",
    "plt.legend(prop=dict(size=15))\n",
    "plt.xlabel('DATE', fontsize=15)"
   ]
  },
  {
   "cell_type": "markdown",
   "id": "60e5a338",
   "metadata": {},
   "source": [
    "### Mean Squared Error"
   ]
  },
  {
   "cell_type": "code",
   "execution_count": 509,
   "id": "19cc899c",
   "metadata": {},
   "outputs": [],
   "source": [
    "y=BTC_actual\n",
    "X=BTC_fitted"
   ]
  },
  {
   "cell_type": "code",
   "execution_count": 510,
   "id": "661003af",
   "metadata": {},
   "outputs": [],
   "source": [
    "y=y.values.reshape(-1,1)\n",
    "X=X.values.reshape(-1,1)"
   ]
  },
  {
   "cell_type": "code",
   "execution_count": 511,
   "id": "3fb6ab5c",
   "metadata": {},
   "outputs": [
    {
     "data": {
      "text/plain": [
       "0.07050027810552596"
      ]
     },
     "execution_count": 511,
     "metadata": {},
     "output_type": "execute_result"
    }
   ],
   "source": [
    "#Mean Squared Error\n",
    "SR= np.square(X-y)\n",
    "MSE= np.sum(SR)/len(data)\n",
    "MSE"
   ]
  }
 ],
 "metadata": {
  "kernelspec": {
   "display_name": "Python 3",
   "language": "python",
   "name": "python3"
  },
  "language_info": {
   "codemirror_mode": {
    "name": "ipython",
    "version": 3
   },
   "file_extension": ".py",
   "mimetype": "text/x-python",
   "name": "python",
   "nbconvert_exporter": "python",
   "pygments_lexer": "ipython3",
   "version": "3.9.5"
  }
 },
 "nbformat": 4,
 "nbformat_minor": 5
}
