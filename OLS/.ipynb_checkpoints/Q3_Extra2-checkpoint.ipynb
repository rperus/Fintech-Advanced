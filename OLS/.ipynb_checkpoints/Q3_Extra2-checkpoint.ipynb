{
 "cells": [
  {
   "cell_type": "code",
   "execution_count": 192,
   "id": "b2a0e4a5",
   "metadata": {},
   "outputs": [],
   "source": [
    "#pip install yfinance\n",
    "#from sklearn.neural_network import MLPRegressor\n",
    "from sklearn.metrics import mean_squared_error\n",
    "import seaborn as sns\n",
    "#import talib as ta\n",
    "import pandas as pd\n",
    "import matplotlib.pyplot as plt \n",
    "import numpy as np\n",
    "from sklearn.ensemble import RandomForestClassifier\n",
    "#from sklearn.metrics import confusion_matrix, classification_report\n",
    "from sklearn.preprocessing import StandardScaler, LabelEncoder \n",
    "from sklearn.model_selection import train_test_split\n",
    "from sklearn.model_selection import cross_val_score\n",
    "#from sklearn.preprocessing import MinMaxScaler\n",
    "#from sklearn.pipeline import Pipeline\n",
    "#from sklearn.metrics import roc_auc_score, roc_curve, accuracy_score\n",
    "#from sklearn import preprocessing\n",
    "#from sklearn import utils"
   ]
  },
  {
   "cell_type": "markdown",
   "id": "c81c4e49",
   "metadata": {},
   "source": [
    "# Open data"
   ]
  },
  {
   "cell_type": "code",
   "execution_count": 164,
   "id": "89f54710",
   "metadata": {
    "scrolled": true
   },
   "outputs": [
    {
     "data": {
      "text/html": [
       "<div>\n",
       "<style scoped>\n",
       "    .dataframe tbody tr th:only-of-type {\n",
       "        vertical-align: middle;\n",
       "    }\n",
       "\n",
       "    .dataframe tbody tr th {\n",
       "        vertical-align: top;\n",
       "    }\n",
       "\n",
       "    .dataframe thead th {\n",
       "        text-align: right;\n",
       "    }\n",
       "</style>\n",
       "<table border=\"1\" class=\"dataframe\">\n",
       "  <thead>\n",
       "    <tr style=\"text-align: right;\">\n",
       "      <th></th>\n",
       "      <th>Close</th>\n",
       "      <th>Open_lag1</th>\n",
       "      <th>High_lag1</th>\n",
       "      <th>Low_lag1</th>\n",
       "      <th>Close_lag1</th>\n",
       "      <th>Adj Close_lag1</th>\n",
       "      <th>Volume_lag1</th>\n",
       "      <th>AROONOSC_lag1</th>\n",
       "      <th>RSI_lag1</th>\n",
       "      <th>RSI1_lag1</th>\n",
       "      <th>...</th>\n",
       "      <th>AD_lag1</th>\n",
       "      <th>OBV_lag1</th>\n",
       "      <th>ATR_lag1</th>\n",
       "      <th>NATR_lag1</th>\n",
       "      <th>TRANGE_lag1</th>\n",
       "      <th>CDLENGULFING_lag1</th>\n",
       "      <th>CDLHANGINGMAN_lag1</th>\n",
       "      <th>CDLSHOOTINGSTAR_lag1</th>\n",
       "      <th>CDLHAMMER_lag1</th>\n",
       "      <th>Unnamed: 21</th>\n",
       "    </tr>\n",
       "  </thead>\n",
       "  <tbody>\n",
       "    <tr>\n",
       "      <th>0</th>\n",
       "      <td>5647.209961</td>\n",
       "      <td>4829.580078</td>\n",
       "      <td>5446.910156</td>\n",
       "      <td>4822.000000</td>\n",
       "      <td>5446.910156</td>\n",
       "      <td>5446.910156</td>\n",
       "      <td>2.791610e+09</td>\n",
       "      <td>100.000000</td>\n",
       "      <td>95.599259</td>\n",
       "      <td>94.035177</td>\n",
       "      <td>...</td>\n",
       "      <td>5.757130e+09</td>\n",
       "      <td>1.382015e+10</td>\n",
       "      <td>245.291755</td>\n",
       "      <td>3.627589</td>\n",
       "      <td>197.591518</td>\n",
       "      <td>0</td>\n",
       "      <td>0</td>\n",
       "      <td>0</td>\n",
       "      <td>0</td>\n",
       "      <td>NaN</td>\n",
       "    </tr>\n",
       "    <tr>\n",
       "      <th>1</th>\n",
       "      <td>5831.790039</td>\n",
       "      <td>5464.160156</td>\n",
       "      <td>5840.299805</td>\n",
       "      <td>5436.850098</td>\n",
       "      <td>5647.209961</td>\n",
       "      <td>5647.209961</td>\n",
       "      <td>3.615480e+09</td>\n",
       "      <td>100.000000</td>\n",
       "      <td>96.443426</td>\n",
       "      <td>95.086632</td>\n",
       "      <td>...</td>\n",
       "      <td>5.911893e+09</td>\n",
       "      <td>1.743563e+10</td>\n",
       "      <td>271.651413</td>\n",
       "      <td>3.759302</td>\n",
       "      <td>212.295674</td>\n",
       "      <td>0</td>\n",
       "      <td>0</td>\n",
       "      <td>0</td>\n",
       "      <td>0</td>\n",
       "      <td>NaN</td>\n",
       "    </tr>\n",
       "    <tr>\n",
       "      <th>2</th>\n",
       "      <td>5678.189941</td>\n",
       "      <td>5643.529785</td>\n",
       "      <td>5837.700195</td>\n",
       "      <td>5591.640137</td>\n",
       "      <td>5831.790039</td>\n",
       "      <td>5831.790039</td>\n",
       "      <td>1.669030e+09</td>\n",
       "      <td>83.333333</td>\n",
       "      <td>97.065831</td>\n",
       "      <td>95.869436</td>\n",
       "      <td>...</td>\n",
       "      <td>7.500746e+09</td>\n",
       "      <td>1.910466e+10</td>\n",
       "      <td>267.386188</td>\n",
       "      <td>3.681673</td>\n",
       "      <td>214.707416</td>\n",
       "      <td>0</td>\n",
       "      <td>0</td>\n",
       "      <td>0</td>\n",
       "      <td>0</td>\n",
       "      <td>NaN</td>\n",
       "    </tr>\n",
       "    <tr>\n",
       "      <th>3</th>\n",
       "      <td>5725.589844</td>\n",
       "      <td>5835.959961</td>\n",
       "      <td>5852.479980</td>\n",
       "      <td>5478.609863</td>\n",
       "      <td>5678.189941</td>\n",
       "      <td>5678.189941</td>\n",
       "      <td>1.976040e+09</td>\n",
       "      <td>100.000000</td>\n",
       "      <td>82.626458</td>\n",
       "      <td>83.027013</td>\n",
       "      <td>...</td>\n",
       "      <td>7.634413e+09</td>\n",
       "      <td>1.712862e+10</td>\n",
       "      <td>285.133509</td>\n",
       "      <td>3.981483</td>\n",
       "      <td>226.076180</td>\n",
       "      <td>0</td>\n",
       "      <td>0</td>\n",
       "      <td>0</td>\n",
       "      <td>0</td>\n",
       "      <td>NaN</td>\n",
       "    </tr>\n",
       "    <tr>\n",
       "      <th>4</th>\n",
       "      <td>5605.509766</td>\n",
       "      <td>5687.569824</td>\n",
       "      <td>5776.229980</td>\n",
       "      <td>5544.209961</td>\n",
       "      <td>5725.589844</td>\n",
       "      <td>5725.589844</td>\n",
       "      <td>2.008070e+09</td>\n",
       "      <td>66.666667</td>\n",
       "      <td>83.533546</td>\n",
       "      <td>83.807925</td>\n",
       "      <td>...</td>\n",
       "      <td>8.765930e+09</td>\n",
       "      <td>1.913669e+10</td>\n",
       "      <td>276.281261</td>\n",
       "      <td>3.955937</td>\n",
       "      <td>226.500740</td>\n",
       "      <td>0</td>\n",
       "      <td>0</td>\n",
       "      <td>0</td>\n",
       "      <td>0</td>\n",
       "      <td>NaN</td>\n",
       "    </tr>\n",
       "  </tbody>\n",
       "</table>\n",
       "<p>5 rows × 21 columns</p>\n",
       "</div>"
      ],
      "text/plain": [
       "         Close    Open_lag1    High_lag1     Low_lag1   Close_lag1  \\\n",
       "0  5647.209961  4829.580078  5446.910156  4822.000000  5446.910156   \n",
       "1  5831.790039  5464.160156  5840.299805  5436.850098  5647.209961   \n",
       "2  5678.189941  5643.529785  5837.700195  5591.640137  5831.790039   \n",
       "3  5725.589844  5835.959961  5852.479980  5478.609863  5678.189941   \n",
       "4  5605.509766  5687.569824  5776.229980  5544.209961  5725.589844   \n",
       "\n",
       "   Adj Close_lag1   Volume_lag1  AROONOSC_lag1   RSI_lag1  RSI1_lag1  ...  \\\n",
       "0     5446.910156  2.791610e+09     100.000000  95.599259  94.035177  ...   \n",
       "1     5647.209961  3.615480e+09     100.000000  96.443426  95.086632  ...   \n",
       "2     5831.790039  1.669030e+09      83.333333  97.065831  95.869436  ...   \n",
       "3     5678.189941  1.976040e+09     100.000000  82.626458  83.027013  ...   \n",
       "4     5725.589844  2.008070e+09      66.666667  83.533546  83.807925  ...   \n",
       "\n",
       "        AD_lag1      OBV_lag1    ATR_lag1  NATR_lag1  TRANGE_lag1  \\\n",
       "0  5.757130e+09  1.382015e+10  245.291755   3.627589   197.591518   \n",
       "1  5.911893e+09  1.743563e+10  271.651413   3.759302   212.295674   \n",
       "2  7.500746e+09  1.910466e+10  267.386188   3.681673   214.707416   \n",
       "3  7.634413e+09  1.712862e+10  285.133509   3.981483   226.076180   \n",
       "4  8.765930e+09  1.913669e+10  276.281261   3.955937   226.500740   \n",
       "\n",
       "   CDLENGULFING_lag1  CDLHANGINGMAN_lag1  CDLSHOOTINGSTAR_lag1  \\\n",
       "0                  0                   0                     0   \n",
       "1                  0                   0                     0   \n",
       "2                  0                   0                     0   \n",
       "3                  0                   0                     0   \n",
       "4                  0                   0                     0   \n",
       "\n",
       "   CDLHAMMER_lag1  Unnamed: 21  \n",
       "0               0          NaN  \n",
       "1               0          NaN  \n",
       "2               0          NaN  \n",
       "3               0          NaN  \n",
       "4               0          NaN  \n",
       "\n",
       "[5 rows x 21 columns]"
      ]
     },
     "execution_count": 164,
     "metadata": {},
     "output_type": "execute_result"
    }
   ],
   "source": [
    "#Open Data, generated in the last question.\n",
    "df=pd.read_csv('BTC_TECH_ANAL1.csv')\n",
    "df=df.drop(['Date'], axis=1)\n",
    "df.head()"
   ]
  },
  {
   "cell_type": "code",
   "execution_count": 165,
   "id": "28a2f00a",
   "metadata": {},
   "outputs": [
    {
     "name": "stderr",
     "output_type": "stream",
     "text": [
      "C:\\Users\\rperu\\.conda\\envs\\6.16Notebook\\lib\\site-packages\\sklearn\\utils\\extmath.py:847: RuntimeWarning: invalid value encountered in true_divide\n",
      "  updated_mean = (last_sum + new_sum) / updated_sample_count\n",
      "C:\\Users\\rperu\\.conda\\envs\\6.16Notebook\\lib\\site-packages\\sklearn\\utils\\extmath.py:689: RuntimeWarning: Degrees of freedom <= 0 for slice.\n",
      "  result = op(x, *args, **kwargs)\n"
     ]
    },
    {
     "data": {
      "text/html": [
       "<div>\n",
       "<style scoped>\n",
       "    .dataframe tbody tr th:only-of-type {\n",
       "        vertical-align: middle;\n",
       "    }\n",
       "\n",
       "    .dataframe tbody tr th {\n",
       "        vertical-align: top;\n",
       "    }\n",
       "\n",
       "    .dataframe thead th {\n",
       "        text-align: right;\n",
       "    }\n",
       "</style>\n",
       "<table border=\"1\" class=\"dataframe\">\n",
       "  <thead>\n",
       "    <tr style=\"text-align: right;\">\n",
       "      <th></th>\n",
       "      <th>Close</th>\n",
       "      <th>Open_lag1</th>\n",
       "      <th>High_lag1</th>\n",
       "      <th>Low_lag1</th>\n",
       "      <th>Close_lag1</th>\n",
       "      <th>Adj Close_lag1</th>\n",
       "      <th>Volume_lag1</th>\n",
       "      <th>AROONOSC_lag1</th>\n",
       "      <th>RSI_lag1</th>\n",
       "      <th>RSI1_lag1</th>\n",
       "      <th>...</th>\n",
       "      <th>AD_lag1</th>\n",
       "      <th>OBV_lag1</th>\n",
       "      <th>ATR_lag1</th>\n",
       "      <th>NATR_lag1</th>\n",
       "      <th>TRANGE_lag1</th>\n",
       "      <th>CDLENGULFING_lag1</th>\n",
       "      <th>CDLHANGINGMAN_lag1</th>\n",
       "      <th>CDLSHOOTINGSTAR_lag1</th>\n",
       "      <th>CDLHAMMER_lag1</th>\n",
       "      <th>Unnamed: 21</th>\n",
       "    </tr>\n",
       "  </thead>\n",
       "  <tbody>\n",
       "    <tr>\n",
       "      <th>0</th>\n",
       "      <td>-0.597295</td>\n",
       "      <td>-0.655132</td>\n",
       "      <td>-0.618715</td>\n",
       "      <td>-0.648627</td>\n",
       "      <td>-0.610880</td>\n",
       "      <td>-0.610880</td>\n",
       "      <td>-0.939627</td>\n",
       "      <td>1.342751</td>\n",
       "      <td>2.105452</td>\n",
       "      <td>2.150025</td>\n",
       "      <td>...</td>\n",
       "      <td>-0.898040</td>\n",
       "      <td>-0.981391</td>\n",
       "      <td>-0.540105</td>\n",
       "      <td>-0.561928</td>\n",
       "      <td>-0.596830</td>\n",
       "      <td>-0.03621</td>\n",
       "      <td>0.139923</td>\n",
       "      <td>0.102214</td>\n",
       "      <td>-0.191712</td>\n",
       "      <td>NaN</td>\n",
       "    </tr>\n",
       "    <tr>\n",
       "      <th>1</th>\n",
       "      <td>-0.583732</td>\n",
       "      <td>-0.608448</td>\n",
       "      <td>-0.590691</td>\n",
       "      <td>-0.601531</td>\n",
       "      <td>-0.596153</td>\n",
       "      <td>-0.596153</td>\n",
       "      <td>-0.901948</td>\n",
       "      <td>1.342751</td>\n",
       "      <td>2.147278</td>\n",
       "      <td>2.205231</td>\n",
       "      <td>...</td>\n",
       "      <td>-0.897897</td>\n",
       "      <td>-0.975774</td>\n",
       "      <td>-0.515933</td>\n",
       "      <td>-0.513524</td>\n",
       "      <td>-0.582666</td>\n",
       "      <td>-0.03621</td>\n",
       "      <td>0.139923</td>\n",
       "      <td>0.102214</td>\n",
       "      <td>-0.191712</td>\n",
       "      <td>NaN</td>\n",
       "    </tr>\n",
       "    <tr>\n",
       "      <th>2</th>\n",
       "      <td>-0.595019</td>\n",
       "      <td>-0.595252</td>\n",
       "      <td>-0.590876</td>\n",
       "      <td>-0.589675</td>\n",
       "      <td>-0.582581</td>\n",
       "      <td>-0.582581</td>\n",
       "      <td>-0.990966</td>\n",
       "      <td>1.099007</td>\n",
       "      <td>2.178116</td>\n",
       "      <td>2.246332</td>\n",
       "      <td>...</td>\n",
       "      <td>-0.896427</td>\n",
       "      <td>-0.973181</td>\n",
       "      <td>-0.519844</td>\n",
       "      <td>-0.542052</td>\n",
       "      <td>-0.580343</td>\n",
       "      <td>-0.03621</td>\n",
       "      <td>0.139923</td>\n",
       "      <td>0.102214</td>\n",
       "      <td>-0.191712</td>\n",
       "      <td>NaN</td>\n",
       "    </tr>\n",
       "    <tr>\n",
       "      <th>3</th>\n",
       "      <td>-0.591536</td>\n",
       "      <td>-0.581096</td>\n",
       "      <td>-0.589823</td>\n",
       "      <td>-0.598333</td>\n",
       "      <td>-0.593875</td>\n",
       "      <td>-0.593875</td>\n",
       "      <td>-0.976926</td>\n",
       "      <td>1.342751</td>\n",
       "      <td>1.462691</td>\n",
       "      <td>1.572051</td>\n",
       "      <td>...</td>\n",
       "      <td>-0.896304</td>\n",
       "      <td>-0.976251</td>\n",
       "      <td>-0.503570</td>\n",
       "      <td>-0.431875</td>\n",
       "      <td>-0.569392</td>\n",
       "      <td>-0.03621</td>\n",
       "      <td>0.139923</td>\n",
       "      <td>0.102214</td>\n",
       "      <td>-0.191712</td>\n",
       "      <td>NaN</td>\n",
       "    </tr>\n",
       "    <tr>\n",
       "      <th>4</th>\n",
       "      <td>-0.600359</td>\n",
       "      <td>-0.592013</td>\n",
       "      <td>-0.595255</td>\n",
       "      <td>-0.593308</td>\n",
       "      <td>-0.590390</td>\n",
       "      <td>-0.590390</td>\n",
       "      <td>-0.975461</td>\n",
       "      <td>0.855263</td>\n",
       "      <td>1.507634</td>\n",
       "      <td>1.613052</td>\n",
       "      <td>...</td>\n",
       "      <td>-0.895257</td>\n",
       "      <td>-0.973132</td>\n",
       "      <td>-0.511687</td>\n",
       "      <td>-0.441263</td>\n",
       "      <td>-0.568983</td>\n",
       "      <td>-0.03621</td>\n",
       "      <td>0.139923</td>\n",
       "      <td>0.102214</td>\n",
       "      <td>-0.191712</td>\n",
       "      <td>NaN</td>\n",
       "    </tr>\n",
       "  </tbody>\n",
       "</table>\n",
       "<p>5 rows × 21 columns</p>\n",
       "</div>"
      ],
      "text/plain": [
       "      Close  Open_lag1  High_lag1  Low_lag1  Close_lag1  Adj Close_lag1  \\\n",
       "0 -0.597295  -0.655132  -0.618715 -0.648627   -0.610880       -0.610880   \n",
       "1 -0.583732  -0.608448  -0.590691 -0.601531   -0.596153       -0.596153   \n",
       "2 -0.595019  -0.595252  -0.590876 -0.589675   -0.582581       -0.582581   \n",
       "3 -0.591536  -0.581096  -0.589823 -0.598333   -0.593875       -0.593875   \n",
       "4 -0.600359  -0.592013  -0.595255 -0.593308   -0.590390       -0.590390   \n",
       "\n",
       "   Volume_lag1  AROONOSC_lag1  RSI_lag1  RSI1_lag1  ...   AD_lag1  OBV_lag1  \\\n",
       "0    -0.939627       1.342751  2.105452   2.150025  ... -0.898040 -0.981391   \n",
       "1    -0.901948       1.342751  2.147278   2.205231  ... -0.897897 -0.975774   \n",
       "2    -0.990966       1.099007  2.178116   2.246332  ... -0.896427 -0.973181   \n",
       "3    -0.976926       1.342751  1.462691   1.572051  ... -0.896304 -0.976251   \n",
       "4    -0.975461       0.855263  1.507634   1.613052  ... -0.895257 -0.973132   \n",
       "\n",
       "   ATR_lag1  NATR_lag1  TRANGE_lag1  CDLENGULFING_lag1  CDLHANGINGMAN_lag1  \\\n",
       "0 -0.540105  -0.561928    -0.596830           -0.03621            0.139923   \n",
       "1 -0.515933  -0.513524    -0.582666           -0.03621            0.139923   \n",
       "2 -0.519844  -0.542052    -0.580343           -0.03621            0.139923   \n",
       "3 -0.503570  -0.431875    -0.569392           -0.03621            0.139923   \n",
       "4 -0.511687  -0.441263    -0.568983           -0.03621            0.139923   \n",
       "\n",
       "   CDLSHOOTINGSTAR_lag1  CDLHAMMER_lag1  Unnamed: 21  \n",
       "0              0.102214       -0.191712          NaN  \n",
       "1              0.102214       -0.191712          NaN  \n",
       "2              0.102214       -0.191712          NaN  \n",
       "3              0.102214       -0.191712          NaN  \n",
       "4              0.102214       -0.191712          NaN  \n",
       "\n",
       "[5 rows x 21 columns]"
      ]
     },
     "execution_count": 165,
     "metadata": {},
     "output_type": "execute_result"
    }
   ],
   "source": [
    "#Scale Data\n",
    "sc_x = StandardScaler() \n",
    "df = pd.DataFrame(sc_x.fit_transform(df), index=df.index, columns=df.columns)\n",
    "df.head()"
   ]
  },
  {
   "cell_type": "code",
   "execution_count": 167,
   "id": "0f300328",
   "metadata": {},
   "outputs": [],
   "source": [
    "#Separate the dataset in dependent an independent variables\n",
    "# X tech indicators without high correlated variables\n",
    "X=df.drop(['Close','Open_lag1','High_lag1','Low_lag1','Close_lag1','Adj Close_lag1','Volume_lag1','Unnamed: 21','ATR_lag1','RSI1_lag1','AD_lag1'], axis=1)\n",
    "# y is Close BTC Price\n",
    "y=df['Close']"
   ]
  },
  {
   "cell_type": "markdown",
   "id": "cc2847a0",
   "metadata": {},
   "source": [
    "# Correlation"
   ]
  },
  {
   "cell_type": "code",
   "execution_count": 26,
   "id": "b0f5ea1a",
   "metadata": {},
   "outputs": [
    {
     "data": {
      "text/html": [
       "<div>\n",
       "<style scoped>\n",
       "    .dataframe tbody tr th:only-of-type {\n",
       "        vertical-align: middle;\n",
       "    }\n",
       "\n",
       "    .dataframe tbody tr th {\n",
       "        vertical-align: top;\n",
       "    }\n",
       "\n",
       "    .dataframe thead th {\n",
       "        text-align: right;\n",
       "    }\n",
       "</style>\n",
       "<table border=\"1\" class=\"dataframe\">\n",
       "  <thead>\n",
       "    <tr style=\"text-align: right;\">\n",
       "      <th></th>\n",
       "      <th>AROONOSC_lag1</th>\n",
       "      <th>RSI_lag1</th>\n",
       "      <th>DX_lag1</th>\n",
       "      <th>OBV_lag1</th>\n",
       "      <th>NATR_lag1</th>\n",
       "      <th>TRANGE_lag1</th>\n",
       "      <th>CDLENGULFING_lag1</th>\n",
       "      <th>CDLHANGINGMAN_lag1</th>\n",
       "      <th>CDLSHOOTINGSTAR_lag1</th>\n",
       "      <th>CDLHAMMER_lag1</th>\n",
       "    </tr>\n",
       "  </thead>\n",
       "  <tbody>\n",
       "    <tr>\n",
       "      <th>AROONOSC_lag1</th>\n",
       "      <td>1.000000</td>\n",
       "      <td>0.751186</td>\n",
       "      <td>0.066016</td>\n",
       "      <td>0.114718</td>\n",
       "      <td>-0.177959</td>\n",
       "      <td>-0.031008</td>\n",
       "      <td>0.069388</td>\n",
       "      <td>-0.005549</td>\n",
       "      <td>-0.044710</td>\n",
       "      <td>-0.095964</td>\n",
       "    </tr>\n",
       "    <tr>\n",
       "      <th>RSI_lag1</th>\n",
       "      <td>0.751186</td>\n",
       "      <td>1.000000</td>\n",
       "      <td>0.047264</td>\n",
       "      <td>0.164944</td>\n",
       "      <td>-0.267501</td>\n",
       "      <td>-0.051737</td>\n",
       "      <td>0.166334</td>\n",
       "      <td>-0.047903</td>\n",
       "      <td>-0.067331</td>\n",
       "      <td>-0.096228</td>\n",
       "    </tr>\n",
       "    <tr>\n",
       "      <th>DX_lag1</th>\n",
       "      <td>0.066016</td>\n",
       "      <td>0.047264</td>\n",
       "      <td>1.000000</td>\n",
       "      <td>0.024605</td>\n",
       "      <td>-0.009513</td>\n",
       "      <td>0.001504</td>\n",
       "      <td>-0.015437</td>\n",
       "      <td>0.037952</td>\n",
       "      <td>-0.024863</td>\n",
       "      <td>-0.024902</td>\n",
       "    </tr>\n",
       "    <tr>\n",
       "      <th>OBV_lag1</th>\n",
       "      <td>0.114718</td>\n",
       "      <td>0.164944</td>\n",
       "      <td>0.024605</td>\n",
       "      <td>1.000000</td>\n",
       "      <td>0.095164</td>\n",
       "      <td>0.748881</td>\n",
       "      <td>0.057848</td>\n",
       "      <td>-0.010977</td>\n",
       "      <td>0.009854</td>\n",
       "      <td>-0.035679</td>\n",
       "    </tr>\n",
       "    <tr>\n",
       "      <th>NATR_lag1</th>\n",
       "      <td>-0.177959</td>\n",
       "      <td>-0.267501</td>\n",
       "      <td>-0.009513</td>\n",
       "      <td>0.095164</td>\n",
       "      <td>1.000000</td>\n",
       "      <td>0.577738</td>\n",
       "      <td>-0.083389</td>\n",
       "      <td>0.013482</td>\n",
       "      <td>0.029817</td>\n",
       "      <td>0.013423</td>\n",
       "    </tr>\n",
       "    <tr>\n",
       "      <th>TRANGE_lag1</th>\n",
       "      <td>-0.031008</td>\n",
       "      <td>-0.051737</td>\n",
       "      <td>0.001504</td>\n",
       "      <td>0.748881</td>\n",
       "      <td>0.577738</td>\n",
       "      <td>1.000000</td>\n",
       "      <td>0.009727</td>\n",
       "      <td>0.009415</td>\n",
       "      <td>0.019172</td>\n",
       "      <td>-0.033627</td>\n",
       "    </tr>\n",
       "    <tr>\n",
       "      <th>CDLENGULFING_lag1</th>\n",
       "      <td>0.069388</td>\n",
       "      <td>0.166334</td>\n",
       "      <td>-0.015437</td>\n",
       "      <td>0.057848</td>\n",
       "      <td>-0.083389</td>\n",
       "      <td>0.009727</td>\n",
       "      <td>1.000000</td>\n",
       "      <td>0.020587</td>\n",
       "      <td>0.003701</td>\n",
       "      <td>-0.018461</td>\n",
       "    </tr>\n",
       "    <tr>\n",
       "      <th>CDLHANGINGMAN_lag1</th>\n",
       "      <td>-0.005549</td>\n",
       "      <td>-0.047903</td>\n",
       "      <td>0.037952</td>\n",
       "      <td>-0.010977</td>\n",
       "      <td>0.013482</td>\n",
       "      <td>0.009415</td>\n",
       "      <td>0.020587</td>\n",
       "      <td>1.000000</td>\n",
       "      <td>-0.014302</td>\n",
       "      <td>-0.031382</td>\n",
       "    </tr>\n",
       "    <tr>\n",
       "      <th>CDLSHOOTINGSTAR_lag1</th>\n",
       "      <td>-0.044710</td>\n",
       "      <td>-0.067331</td>\n",
       "      <td>-0.024863</td>\n",
       "      <td>0.009854</td>\n",
       "      <td>0.029817</td>\n",
       "      <td>0.019172</td>\n",
       "      <td>0.003701</td>\n",
       "      <td>-0.014302</td>\n",
       "      <td>1.000000</td>\n",
       "      <td>0.019596</td>\n",
       "    </tr>\n",
       "    <tr>\n",
       "      <th>CDLHAMMER_lag1</th>\n",
       "      <td>-0.095964</td>\n",
       "      <td>-0.096228</td>\n",
       "      <td>-0.024902</td>\n",
       "      <td>-0.035679</td>\n",
       "      <td>0.013423</td>\n",
       "      <td>-0.033627</td>\n",
       "      <td>-0.018461</td>\n",
       "      <td>-0.031382</td>\n",
       "      <td>0.019596</td>\n",
       "      <td>1.000000</td>\n",
       "    </tr>\n",
       "  </tbody>\n",
       "</table>\n",
       "</div>"
      ],
      "text/plain": [
       "                      AROONOSC_lag1  RSI_lag1   DX_lag1  OBV_lag1  NATR_lag1  \\\n",
       "AROONOSC_lag1              1.000000  0.751186  0.066016  0.114718  -0.177959   \n",
       "RSI_lag1                   0.751186  1.000000  0.047264  0.164944  -0.267501   \n",
       "DX_lag1                    0.066016  0.047264  1.000000  0.024605  -0.009513   \n",
       "OBV_lag1                   0.114718  0.164944  0.024605  1.000000   0.095164   \n",
       "NATR_lag1                 -0.177959 -0.267501 -0.009513  0.095164   1.000000   \n",
       "TRANGE_lag1               -0.031008 -0.051737  0.001504  0.748881   0.577738   \n",
       "CDLENGULFING_lag1          0.069388  0.166334 -0.015437  0.057848  -0.083389   \n",
       "CDLHANGINGMAN_lag1        -0.005549 -0.047903  0.037952 -0.010977   0.013482   \n",
       "CDLSHOOTINGSTAR_lag1      -0.044710 -0.067331 -0.024863  0.009854   0.029817   \n",
       "CDLHAMMER_lag1            -0.095964 -0.096228 -0.024902 -0.035679   0.013423   \n",
       "\n",
       "                      TRANGE_lag1  CDLENGULFING_lag1  CDLHANGINGMAN_lag1  \\\n",
       "AROONOSC_lag1           -0.031008           0.069388           -0.005549   \n",
       "RSI_lag1                -0.051737           0.166334           -0.047903   \n",
       "DX_lag1                  0.001504          -0.015437            0.037952   \n",
       "OBV_lag1                 0.748881           0.057848           -0.010977   \n",
       "NATR_lag1                0.577738          -0.083389            0.013482   \n",
       "TRANGE_lag1              1.000000           0.009727            0.009415   \n",
       "CDLENGULFING_lag1        0.009727           1.000000            0.020587   \n",
       "CDLHANGINGMAN_lag1       0.009415           0.020587            1.000000   \n",
       "CDLSHOOTINGSTAR_lag1     0.019172           0.003701           -0.014302   \n",
       "CDLHAMMER_lag1          -0.033627          -0.018461           -0.031382   \n",
       "\n",
       "                      CDLSHOOTINGSTAR_lag1  CDLHAMMER_lag1  \n",
       "AROONOSC_lag1                    -0.044710       -0.095964  \n",
       "RSI_lag1                         -0.067331       -0.096228  \n",
       "DX_lag1                          -0.024863       -0.024902  \n",
       "OBV_lag1                          0.009854       -0.035679  \n",
       "NATR_lag1                         0.029817        0.013423  \n",
       "TRANGE_lag1                       0.019172       -0.033627  \n",
       "CDLENGULFING_lag1                 0.003701       -0.018461  \n",
       "CDLHANGINGMAN_lag1               -0.014302       -0.031382  \n",
       "CDLSHOOTINGSTAR_lag1              1.000000        0.019596  \n",
       "CDLHAMMER_lag1                    0.019596        1.000000  "
      ]
     },
     "metadata": {},
     "output_type": "display_data"
    },
    {
     "data": {
      "image/png": "[encoded data removed]",
      "text/plain": [
       "<Figure size 432x288 with 2 Axes>"
      ]
     },
     "metadata": {
      "needs_background": "light"
     },
     "output_type": "display_data"
    }
   ],
   "source": [
    "#Drop correlated variables ATR_lag1, RSI1_lag1 & AD_lag1\n",
    "corr=X.corr()\n",
    "display(corr)\n",
    "sns.heatmap(corr, xticklabels=corr.columns, yticklabels=corr.columns, cmap='RdBu')\n",
    "plt.title('Correlation heatmap plot.', fontsize=19,  color='red')\n",
    "plt.show()"
   ]
  },
  {
   "cell_type": "code",
   "execution_count": 168,
   "id": "152a7830",
   "metadata": {},
   "outputs": [],
   "source": [
    "# Split Train and Test Data\n",
    "X_train, X_test, y_train, y_test = train_test_split(X,y,random_state=42)"
   ]
  },
  {
   "cell_type": "code",
   "execution_count": 191,
   "id": "95e747d8",
   "metadata": {},
   "outputs": [],
   "source": [
    "# BTC actual Prices\n",
    "BTC_actual=y"
   ]
  },
  {
   "cell_type": "markdown",
   "id": "dbf3ab8b",
   "metadata": {},
   "source": [
    "# 3.3 Support Vector Machines"
   ]
  },
  {
   "cell_type": "code",
   "execution_count": 170,
   "id": "1677ff89",
   "metadata": {},
   "outputs": [],
   "source": [
    "#Support Vector Model\n",
    "from sklearn import svm\n",
    "svm_= svm.SVR()\n",
    "svm_.fit(X_train,y_train)\n",
    "y_predict=svm_.predict(X_test)"
   ]
  },
  {
   "cell_type": "code",
   "execution_count": 171,
   "id": "1807cab7",
   "metadata": {},
   "outputs": [
    {
     "name": "stdout",
     "output_type": "stream",
     "text": [
      "0.02285196979689184\n"
     ]
    }
   ],
   "source": [
    "#Mean Squared Error\n",
    "print(mean_squared_error(y_test, y_predict))"
   ]
  },
  {
   "cell_type": "code",
   "execution_count": null,
   "id": "f336165b",
   "metadata": {},
   "outputs": [],
   "source": []
  },
  {
   "cell_type": "markdown",
   "id": "be15e4e7",
   "metadata": {},
   "source": [
    "# 3.4 Decision Tree Model"
   ]
  },
  {
   "cell_type": "code",
   "execution_count": 187,
   "id": "e90d66a8",
   "metadata": {},
   "outputs": [],
   "source": [
    "# Decision Tree\n",
    "from sklearn import tree\n",
    "dt= tree.DecisionTreeRegressor()\n",
    "dt.fit(X_train,y_train)\n",
    "y_predict=dt.predict(X_test)"
   ]
  },
  {
   "cell_type": "code",
   "execution_count": 188,
   "id": "18dc5ebc",
   "metadata": {},
   "outputs": [
    {
     "name": "stdout",
     "output_type": "stream",
     "text": [
      "0.011387942060315343\n"
     ]
    }
   ],
   "source": [
    "print(mean_squared_error(y_test, y_predict))"
   ]
  },
  {
   "cell_type": "code",
   "execution_count": 195,
   "id": "5443bed8",
   "metadata": {},
   "outputs": [],
   "source": [
    "#Coefficients\n",
    "coef=cross_val_score(dt, X_test, X_test, cv=10)"
   ]
  },
  {
   "cell_type": "code",
   "execution_count": 196,
   "id": "339b832d",
   "metadata": {},
   "outputs": [],
   "source": [
    "#BTC_actual=data_scaled[['Close']]  es y\n",
    "BTC_fitted= X.dot(coef)"
   ]
  },
  {
   "cell_type": "markdown",
   "id": "003ac806",
   "metadata": {},
   "source": [
    "# 3.5 Ordinary Least Squares"
   ]
  },
  {
   "cell_type": "code",
   "execution_count": 217,
   "id": "5b597945",
   "metadata": {},
   "outputs": [],
   "source": [
    "from sklearn import linear_model\n",
    "reg = linear_model.LinearRegression()\n",
    "reg.fit(X_train,y_train)\n",
    "y_predict=reg.predict(X_test)"
   ]
  },
  {
   "cell_type": "code",
   "execution_count": 218,
   "id": "227e7f40",
   "metadata": {},
   "outputs": [
    {
     "name": "stdout",
     "output_type": "stream",
     "text": [
      "0.059052961355928475\n"
     ]
    }
   ],
   "source": [
    "#Mean Squared Error\n",
    "print(mean_squared_error(y_test, y_predict))"
   ]
  },
  {
   "cell_type": "code",
   "execution_count": 201,
   "id": "c741bbdf",
   "metadata": {},
   "outputs": [
    {
     "data": {
      "text/plain": [
       "array([ 1.96836247e-02,  1.90074584e-02,  7.61277692e-03,  2.70343619e-01,\n",
       "       -2.09617063e-01,  8.37545433e-01, -1.44895024e-02, -1.34981699e-03,\n",
       "       -4.97633469e-03,  5.12264807e-05])"
      ]
     },
     "execution_count": 201,
     "metadata": {},
     "output_type": "execute_result"
    }
   ],
   "source": [
    "#Coefficients\n",
    "coef=reg.coef_\n",
    "coef"
   ]
  },
  {
   "cell_type": "code",
   "execution_count": 203,
   "id": "105e5267",
   "metadata": {},
   "outputs": [],
   "source": [
    "#BTC Fitted Values\n",
    "BTC_fitted= X.dot(coef)\n",
    "BTC_actual=y"
   ]
  },
  {
   "cell_type": "code",
   "execution_count": 208,
   "id": "571b013f",
   "metadata": {},
   "outputs": [
    {
     "data": {
      "text/plain": [
       "Text(0.5, 0, 'Ordinary Least Squares Regression')"
      ]
     },
     "execution_count": 208,
     "metadata": {},
     "output_type": "execute_result"
    },
    {
     "data": {
      "image/png": "[encoded data removed]",
      "text/plain": [
       "<Figure size 648x432 with 1 Axes>"
      ]
     },
     "metadata": {
      "needs_background": "light"
     },
     "output_type": "display_data"
    }
   ],
   "source": [
    "#Comparisson of BTC actual values and predicted values\n",
    "plt.figure(figsize=(9, 6))\n",
    "plt.plot(BTC_fitted.index, BTC_fitted, c='darkblue',label='Predicted Value')\n",
    "plt.plot(BTC_fitted.index, BTC_actual, c='red',label='Actual BTC Value')\n",
    "plt.legend(prop=dict(size=13))\n",
    "plt.xlabel('Ordinary Least Squares Regression', fontsize=15)\n",
    "#plt.show()"
   ]
  },
  {
   "cell_type": "markdown",
   "id": "b397fa1b",
   "metadata": {},
   "source": [
    "# 3.6. Bayesian Regression"
   ]
  },
  {
   "cell_type": "code",
   "execution_count": 219,
   "id": "bd4d962c",
   "metadata": {},
   "outputs": [],
   "source": [
    "from sklearn import linear_model\n",
    "reg = linear_model.BayesianRidge()\n",
    "reg.fit(X_train,y_train)\n",
    "y_predict=reg.predict(X_test)"
   ]
  },
  {
   "cell_type": "code",
   "execution_count": 220,
   "id": "6d04b9f6",
   "metadata": {},
   "outputs": [
    {
     "name": "stdout",
     "output_type": "stream",
     "text": [
      "0.058938666322142536\n"
     ]
    }
   ],
   "source": [
    "#Mean Squared Error\n",
    "print(mean_squared_error(y_test, y_predict))"
   ]
  },
  {
   "cell_type": "code",
   "execution_count": 214,
   "id": "a0e5909b",
   "metadata": {},
   "outputs": [],
   "source": [
    "#Coefficients\n",
    "coef=reg.coef_"
   ]
  },
  {
   "cell_type": "code",
   "execution_count": 215,
   "id": "afab5498",
   "metadata": {},
   "outputs": [],
   "source": [
    "#BTC_actual=data_scaled[['Close']]  es y\n",
    "BTC_fitted= X.dot(coef)\n",
    "#acrual values is y\n",
    "BTC_actual=y"
   ]
  },
  {
   "cell_type": "code",
   "execution_count": 216,
   "id": "4950980d",
   "metadata": {},
   "outputs": [
    {
     "data": {
      "text/plain": [
       "Text(0.5, 0, 'Bayesian Regression')"
      ]
     },
     "execution_count": 216,
     "metadata": {},
     "output_type": "execute_result"
    },
    {
     "data": {
      "image/png": "[encoded data removed]",
      "text/plain": [
       "<Figure size 648x432 with 1 Axes>"
      ]
     },
     "metadata": {
      "needs_background": "light"
     },
     "output_type": "display_data"
    }
   ],
   "source": [
    "#Comparisson of BTC actual values and predicted values\n",
    "plt.figure(figsize=(9, 6))\n",
    "plt.plot(BTC_fitted.index, BTC_fitted, c='darkblue',label='Predicted Value')\n",
    "plt.plot(BTC_fitted.index, BTC_actual, c='red',label='Actual BTC Value')\n",
    "plt.legend(prop=dict(size=13))\n",
    "plt.xlabel('Bayesian Regression', fontsize=15)\n"
   ]
  },
  {
   "cell_type": "code",
   "execution_count": null,
   "id": "f23bb7e1",
   "metadata": {},
   "outputs": [],
   "source": []
  },
  {
   "cell_type": "markdown",
   "id": "d091cc46",
   "metadata": {},
   "source": [
    "# ElasticNet "
   ]
  },
  {
   "cell_type": "code",
   "execution_count": 142,
   "id": "ab12720a",
   "metadata": {},
   "outputs": [],
   "source": [
    "from sklearn.linear_model import ElasticNet\n",
    "model = ElasticNet(alpha=0.0001, l1_ratio=0.5,normalize=False)\n",
    "model.fit(X_train, y_train)\n",
    "y_predict=reg.predict(X_test)"
   ]
  },
  {
   "cell_type": "code",
   "execution_count": 143,
   "id": "f5364731",
   "metadata": {},
   "outputs": [
    {
     "name": "stdout",
     "output_type": "stream",
     "text": [
      "10916266.716870684\n"
     ]
    }
   ],
   "source": [
    "print(mean_squared_error(y_test, y_predict))"
   ]
  },
  {
   "cell_type": "code",
   "execution_count": 144,
   "id": "c87a26e2",
   "metadata": {},
   "outputs": [
    {
     "data": {
      "text/plain": [
       "array([ 2.69263315e+02,  2.59474428e+02,  1.04308226e+02,  3.76963049e+03,\n",
       "       -2.88395764e+03,  1.15162019e+04, -2.01805573e+02, -1.80978355e+01,\n",
       "       -6.27440087e+01,  6.10687394e-01])"
      ]
     },
     "execution_count": 144,
     "metadata": {},
     "output_type": "execute_result"
    }
   ],
   "source": [
    "model.coef_"
   ]
  },
  {
   "cell_type": "code",
   "execution_count": 348,
   "id": "086fb92e",
   "metadata": {},
   "outputs": [],
   "source": []
  },
  {
   "cell_type": "code",
   "execution_count": null,
   "id": "f2224a57",
   "metadata": {},
   "outputs": [],
   "source": []
  },
  {
   "cell_type": "code",
   "execution_count": 586,
   "id": "1230d12e",
   "metadata": {},
   "outputs": [
    {
     "name": "stdout",
     "output_type": "stream",
     "text": [
      "AROONOSC_lag1 : 0.0034852923505982103\n",
      "RSI_lag1 : -0.0\n",
      "RSI1_lag1 : 0.01142857285654937\n",
      "DX_lag1 : 0.0038680399481646906\n",
      "AD_lag1 : 0.10642634384873408\n",
      "OBV_lag1 : 0.07328293186382188\n",
      "ATR_lag1 : 0.06474945481246612\n",
      "NATR_lag1 : -0.1511765509819744\n",
      "TRANGE_lag1 : 0.7826581067274684\n",
      "CDLENGULFING_lag1 : -0.002606840947162683\n",
      "CDLHANGINGMAN_lag1 : 0.00017576926266141138\n",
      "CDLSHOOTINGSTAR_lag1 : 5.4012996158095144e-05\n",
      "CDLHAMMER_lag1 : 0.0002688964817339358\n"
     ]
    }
   ],
   "source": [
    "#Coefficients for each variable\n",
    "coef = list(model.coef_)\n",
    "count = 0\n",
    "for i in X.columns:\n",
    "    print(i,':',coef[count])\n",
    "    count+= 1"
   ]
  },
  {
   "cell_type": "code",
   "execution_count": 587,
   "id": "d6091484",
   "metadata": {},
   "outputs": [
    {
     "data": {
      "text/plain": [
       "Date\n",
       "2021-06-27    1.986563\n",
       "2021-06-28    2.009079\n",
       "2021-06-29    1.914264\n",
       "2021-06-30    1.913477\n",
       "2021-07-01    1.846690\n",
       "dtype: float64"
      ]
     },
     "execution_count": 587,
     "metadata": {},
     "output_type": "execute_result"
    }
   ],
   "source": [
    "#Forecast Values of BTC\n",
    "BTC_fitted= X.dot(coef)\n",
    "BTC_fitted.tail()"
   ]
  },
  {
   "cell_type": "code",
   "execution_count": 588,
   "id": "8a949a62",
   "metadata": {},
   "outputs": [
    {
     "data": {
      "text/html": [
       "<div>\n",
       "<style scoped>\n",
       "    .dataframe tbody tr th:only-of-type {\n",
       "        vertical-align: middle;\n",
       "    }\n",
       "\n",
       "    .dataframe tbody tr th {\n",
       "        vertical-align: top;\n",
       "    }\n",
       "\n",
       "    .dataframe thead th {\n",
       "        text-align: right;\n",
       "    }\n",
       "</style>\n",
       "<table border=\"1\" class=\"dataframe\">\n",
       "  <thead>\n",
       "    <tr style=\"text-align: right;\">\n",
       "      <th></th>\n",
       "      <th>Close</th>\n",
       "    </tr>\n",
       "    <tr>\n",
       "      <th>Date</th>\n",
       "      <th></th>\n",
       "    </tr>\n",
       "  </thead>\n",
       "  <tbody>\n",
       "    <tr>\n",
       "      <th>2021-06-27</th>\n",
       "      <td>1.533786</td>\n",
       "    </tr>\n",
       "    <tr>\n",
       "      <th>2021-06-28</th>\n",
       "      <td>1.517965</td>\n",
       "    </tr>\n",
       "    <tr>\n",
       "      <th>2021-06-29</th>\n",
       "      <td>1.623294</td>\n",
       "    </tr>\n",
       "    <tr>\n",
       "      <th>2021-06-30</th>\n",
       "      <td>1.562531</td>\n",
       "    </tr>\n",
       "    <tr>\n",
       "      <th>2021-07-01</th>\n",
       "      <td>1.454610</td>\n",
       "    </tr>\n",
       "  </tbody>\n",
       "</table>\n",
       "</div>"
      ],
      "text/plain": [
       "               Close\n",
       "Date                \n",
       "2021-06-27  1.533786\n",
       "2021-06-28  1.517965\n",
       "2021-06-29  1.623294\n",
       "2021-06-30  1.562531\n",
       "2021-07-01  1.454610"
      ]
     },
     "execution_count": 588,
     "metadata": {},
     "output_type": "execute_result"
    }
   ],
   "source": [
    "#Actual Values of BTC (scaled)\n",
    "BTC_actual=data_scaled[['Close']]\n",
    "BTC_actual.tail()"
   ]
  },
  {
   "cell_type": "code",
   "execution_count": 589,
   "id": "57b07ae8",
   "metadata": {},
   "outputs": [
    {
     "data": {
      "text/plain": [
       "Text(0.5, 0, 'DATE')"
      ]
     },
     "execution_count": 589,
     "metadata": {},
     "output_type": "execute_result"
    },
    {
     "data": {
      "image/png": "[encoded data removed]",
      "text/plain": [
       "<Figure size 1008x576 with 1 Axes>"
      ]
     },
     "metadata": {
      "needs_background": "light"
     },
     "output_type": "display_data"
    }
   ],
   "source": [
    "#Comparisson of BTC actual values and predicted values\n",
    "plt.figure(figsize=(14, 8))\n",
    "plt.plot(data_scaled.index, BTC_fitted, c='darkblue',label='Predicted Value')\n",
    "plt.plot(data_scaled.index, BTC_actual, c='red',label='Actual BTC Value')\n",
    "plt.legend(prop=dict(size=15))\n",
    "plt.xlabel('DATE', fontsize=15)"
   ]
  },
  {
   "cell_type": "markdown",
   "id": "b538de6e",
   "metadata": {},
   "source": [
    "### Mean Squared Error"
   ]
  },
  {
   "cell_type": "code",
   "execution_count": 509,
   "id": "1718e7b1",
   "metadata": {},
   "outputs": [],
   "source": [
    "y=BTC_actual\n",
    "X=BTC_fitted"
   ]
  },
  {
   "cell_type": "code",
   "execution_count": 510,
   "id": "a6eb66da",
   "metadata": {},
   "outputs": [],
   "source": [
    "y=y.values.reshape(-1,1)\n",
    "X=X.values.reshape(-1,1)"
   ]
  },
  {
   "cell_type": "code",
   "execution_count": 511,
   "id": "5044aee0",
   "metadata": {},
   "outputs": [
    {
     "data": {
      "text/plain": [
       "0.07050027810552596"
      ]
     },
     "execution_count": 511,
     "metadata": {},
     "output_type": "execute_result"
    }
   ],
   "source": [
    "#Mean Squared Error\n",
    "SR= np.square(X-y)\n",
    "MSE= np.sum(SR)/len(data)\n",
    "MSE"
   ]
  }
 ],
 "metadata": {
  "kernelspec": {
   "display_name": "Python 3",
   "language": "python",
   "name": "python3"
  },
  "language_info": {
   "codemirror_mode": {
    "name": "ipython",
    "version": 3
   },
   "file_extension": ".py",
   "mimetype": "text/x-python",
   "name": "python",
   "nbconvert_exporter": "python",
   "pygments_lexer": "ipython3",
   "version": "3.9.5"
  }
 },
 "nbformat": 4,
 "nbformat_minor": 5
}
