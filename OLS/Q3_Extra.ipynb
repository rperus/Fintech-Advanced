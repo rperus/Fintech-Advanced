{
 "cells": [
  {
   "cell_type": "code",
   "execution_count": 91,
   "id": "aee4ab71",
   "metadata": {},
   "outputs": [],
   "source": [
    "#pip install yfinance\n",
    "#from sklearn.neural_network import MLPRegressor\n",
    "from sklearn.metrics import mean_squared_error\n",
    "import seaborn as sns\n",
    "#import talib as ta\n",
    "import pandas as pd\n",
    "import matplotlib.pyplot as plt \n",
    "import numpy as np\n",
    "from sklearn.ensemble import RandomForestClassifier\n",
    "#from sklearn.metrics import confusion_matrix, classification_report\n",
    "from sklearn.preprocessing import StandardScaler, LabelEncoder \n",
    "from sklearn.model_selection import train_test_split\n",
    "#from sklearn.preprocessing import MinMaxScaler\n",
    "#from sklearn.pipeline import Pipeline\n",
    "#from sklearn.metrics import roc_auc_score, roc_curve, accuracy_score\n",
    "#from sklearn import preprocessing\n",
    "#from sklearn import utils"
   ]
  },
  {
   "cell_type": "markdown",
   "id": "2f091d9a",
   "metadata": {},
   "source": [
    "# Open data"
   ]
  },
  {
   "cell_type": "code",
   "execution_count": 2,
   "id": "48e2c87b",
   "metadata": {
    "scrolled": true
   },
   "outputs": [
    {
     "data": {
      "text/html": [
       "<div>\n",
       "<style scoped>\n",
       "    .dataframe tbody tr th:only-of-type {\n",
       "        vertical-align: middle;\n",
       "    }\n",
       "\n",
       "    .dataframe tbody tr th {\n",
       "        vertical-align: top;\n",
       "    }\n",
       "\n",
       "    .dataframe thead th {\n",
       "        text-align: right;\n",
       "    }\n",
       "</style>\n",
       "<table border=\"1\" class=\"dataframe\">\n",
       "  <thead>\n",
       "    <tr style=\"text-align: right;\">\n",
       "      <th></th>\n",
       "      <th>Date</th>\n",
       "      <th>Close</th>\n",
       "      <th>Open_lag1</th>\n",
       "      <th>High_lag1</th>\n",
       "      <th>Low_lag1</th>\n",
       "      <th>Close_lag1</th>\n",
       "      <th>Adj Close_lag1</th>\n",
       "      <th>Volume_lag1</th>\n",
       "      <th>AROONOSC_lag1</th>\n",
       "      <th>RSI_lag1</th>\n",
       "      <th>...</th>\n",
       "      <th>AD_lag1</th>\n",
       "      <th>OBV_lag1</th>\n",
       "      <th>ATR_lag1</th>\n",
       "      <th>NATR_lag1</th>\n",
       "      <th>TRANGE_lag1</th>\n",
       "      <th>CDLENGULFING_lag1</th>\n",
       "      <th>CDLHANGINGMAN_lag1</th>\n",
       "      <th>CDLSHOOTINGSTAR_lag1</th>\n",
       "      <th>CDLHAMMER_lag1</th>\n",
       "      <th>Unnamed: 21</th>\n",
       "    </tr>\n",
       "  </thead>\n",
       "  <tbody>\n",
       "    <tr>\n",
       "      <th>0</th>\n",
       "      <td>13/10/2017</td>\n",
       "      <td>5647.209961</td>\n",
       "      <td>4829.580078</td>\n",
       "      <td>5446.910156</td>\n",
       "      <td>4822.000000</td>\n",
       "      <td>5446.910156</td>\n",
       "      <td>5446.910156</td>\n",
       "      <td>2.791610e+09</td>\n",
       "      <td>100.000000</td>\n",
       "      <td>95.599259</td>\n",
       "      <td>...</td>\n",
       "      <td>5.757130e+09</td>\n",
       "      <td>1.382015e+10</td>\n",
       "      <td>245.291755</td>\n",
       "      <td>3.627589</td>\n",
       "      <td>197.591518</td>\n",
       "      <td>0</td>\n",
       "      <td>0</td>\n",
       "      <td>0</td>\n",
       "      <td>0</td>\n",
       "      <td>NaN</td>\n",
       "    </tr>\n",
       "    <tr>\n",
       "      <th>1</th>\n",
       "      <td>14/10/2017</td>\n",
       "      <td>5831.790039</td>\n",
       "      <td>5464.160156</td>\n",
       "      <td>5840.299805</td>\n",
       "      <td>5436.850098</td>\n",
       "      <td>5647.209961</td>\n",
       "      <td>5647.209961</td>\n",
       "      <td>3.615480e+09</td>\n",
       "      <td>100.000000</td>\n",
       "      <td>96.443426</td>\n",
       "      <td>...</td>\n",
       "      <td>5.911893e+09</td>\n",
       "      <td>1.743563e+10</td>\n",
       "      <td>271.651413</td>\n",
       "      <td>3.759302</td>\n",
       "      <td>212.295674</td>\n",
       "      <td>0</td>\n",
       "      <td>0</td>\n",
       "      <td>0</td>\n",
       "      <td>0</td>\n",
       "      <td>NaN</td>\n",
       "    </tr>\n",
       "    <tr>\n",
       "      <th>2</th>\n",
       "      <td>15/10/2017</td>\n",
       "      <td>5678.189941</td>\n",
       "      <td>5643.529785</td>\n",
       "      <td>5837.700195</td>\n",
       "      <td>5591.640137</td>\n",
       "      <td>5831.790039</td>\n",
       "      <td>5831.790039</td>\n",
       "      <td>1.669030e+09</td>\n",
       "      <td>83.333333</td>\n",
       "      <td>97.065831</td>\n",
       "      <td>...</td>\n",
       "      <td>7.500746e+09</td>\n",
       "      <td>1.910466e+10</td>\n",
       "      <td>267.386188</td>\n",
       "      <td>3.681673</td>\n",
       "      <td>214.707416</td>\n",
       "      <td>0</td>\n",
       "      <td>0</td>\n",
       "      <td>0</td>\n",
       "      <td>0</td>\n",
       "      <td>NaN</td>\n",
       "    </tr>\n",
       "    <tr>\n",
       "      <th>3</th>\n",
       "      <td>16/10/2017</td>\n",
       "      <td>5725.589844</td>\n",
       "      <td>5835.959961</td>\n",
       "      <td>5852.479980</td>\n",
       "      <td>5478.609863</td>\n",
       "      <td>5678.189941</td>\n",
       "      <td>5678.189941</td>\n",
       "      <td>1.976040e+09</td>\n",
       "      <td>100.000000</td>\n",
       "      <td>82.626458</td>\n",
       "      <td>...</td>\n",
       "      <td>7.634413e+09</td>\n",
       "      <td>1.712862e+10</td>\n",
       "      <td>285.133509</td>\n",
       "      <td>3.981483</td>\n",
       "      <td>226.076180</td>\n",
       "      <td>0</td>\n",
       "      <td>0</td>\n",
       "      <td>0</td>\n",
       "      <td>0</td>\n",
       "      <td>NaN</td>\n",
       "    </tr>\n",
       "    <tr>\n",
       "      <th>4</th>\n",
       "      <td>17/10/2017</td>\n",
       "      <td>5605.509766</td>\n",
       "      <td>5687.569824</td>\n",
       "      <td>5776.229980</td>\n",
       "      <td>5544.209961</td>\n",
       "      <td>5725.589844</td>\n",
       "      <td>5725.589844</td>\n",
       "      <td>2.008070e+09</td>\n",
       "      <td>66.666667</td>\n",
       "      <td>83.533546</td>\n",
       "      <td>...</td>\n",
       "      <td>8.765930e+09</td>\n",
       "      <td>1.913669e+10</td>\n",
       "      <td>276.281261</td>\n",
       "      <td>3.955937</td>\n",
       "      <td>226.500740</td>\n",
       "      <td>0</td>\n",
       "      <td>0</td>\n",
       "      <td>0</td>\n",
       "      <td>0</td>\n",
       "      <td>NaN</td>\n",
       "    </tr>\n",
       "  </tbody>\n",
       "</table>\n",
       "<p>5 rows × 22 columns</p>\n",
       "</div>"
      ],
      "text/plain": [
       "         Date        Close    Open_lag1    High_lag1     Low_lag1  \\\n",
       "0  13/10/2017  5647.209961  4829.580078  5446.910156  4822.000000   \n",
       "1  14/10/2017  5831.790039  5464.160156  5840.299805  5436.850098   \n",
       "2  15/10/2017  5678.189941  5643.529785  5837.700195  5591.640137   \n",
       "3  16/10/2017  5725.589844  5835.959961  5852.479980  5478.609863   \n",
       "4  17/10/2017  5605.509766  5687.569824  5776.229980  5544.209961   \n",
       "\n",
       "    Close_lag1  Adj Close_lag1   Volume_lag1  AROONOSC_lag1   RSI_lag1  ...  \\\n",
       "0  5446.910156     5446.910156  2.791610e+09     100.000000  95.599259  ...   \n",
       "1  5647.209961     5647.209961  3.615480e+09     100.000000  96.443426  ...   \n",
       "2  5831.790039     5831.790039  1.669030e+09      83.333333  97.065831  ...   \n",
       "3  5678.189941     5678.189941  1.976040e+09     100.000000  82.626458  ...   \n",
       "4  5725.589844     5725.589844  2.008070e+09      66.666667  83.533546  ...   \n",
       "\n",
       "        AD_lag1      OBV_lag1    ATR_lag1  NATR_lag1  TRANGE_lag1  \\\n",
       "0  5.757130e+09  1.382015e+10  245.291755   3.627589   197.591518   \n",
       "1  5.911893e+09  1.743563e+10  271.651413   3.759302   212.295674   \n",
       "2  7.500746e+09  1.910466e+10  267.386188   3.681673   214.707416   \n",
       "3  7.634413e+09  1.712862e+10  285.133509   3.981483   226.076180   \n",
       "4  8.765930e+09  1.913669e+10  276.281261   3.955937   226.500740   \n",
       "\n",
       "   CDLENGULFING_lag1  CDLHANGINGMAN_lag1  CDLSHOOTINGSTAR_lag1  \\\n",
       "0                  0                   0                     0   \n",
       "1                  0                   0                     0   \n",
       "2                  0                   0                     0   \n",
       "3                  0                   0                     0   \n",
       "4                  0                   0                     0   \n",
       "\n",
       "   CDLHAMMER_lag1  Unnamed: 21  \n",
       "0               0          NaN  \n",
       "1               0          NaN  \n",
       "2               0          NaN  \n",
       "3               0          NaN  \n",
       "4               0          NaN  \n",
       "\n",
       "[5 rows x 22 columns]"
      ]
     },
     "execution_count": 2,
     "metadata": {},
     "output_type": "execute_result"
    }
   ],
   "source": [
    "#Open Data, generated in the last question.\n",
    "df=pd.read_csv('BTC_TECH_ANAL1.csv')\n",
    "df.head()"
   ]
  },
  {
   "cell_type": "code",
   "execution_count": 112,
   "id": "eaf4e72e",
   "metadata": {},
   "outputs": [],
   "source": [
    "#Separate the dataset in dependent an independent variable\n",
    "# X tech indicators without AT\n",
    "X=df.drop(['Date', 'Close','Open_lag1','High_lag1','Low_lag1','Close_lag1','Adj Close_lag1','Volume_lag1','Unnamed: 21','ATR_lag1','RSI1_lag1','AD_lag1'], axis=1)\n",
    "# y is Close BTC Price\n",
    "y=df['Close']"
   ]
  },
  {
   "cell_type": "code",
   "execution_count": 26,
   "id": "009adcb1",
   "metadata": {},
   "outputs": [
    {
     "data": {
      "text/html": [
       "<div>\n",
       "<style scoped>\n",
       "    .dataframe tbody tr th:only-of-type {\n",
       "        vertical-align: middle;\n",
       "    }\n",
       "\n",
       "    .dataframe tbody tr th {\n",
       "        vertical-align: top;\n",
       "    }\n",
       "\n",
       "    .dataframe thead th {\n",
       "        text-align: right;\n",
       "    }\n",
       "</style>\n",
       "<table border=\"1\" class=\"dataframe\">\n",
       "  <thead>\n",
       "    <tr style=\"text-align: right;\">\n",
       "      <th></th>\n",
       "      <th>AROONOSC_lag1</th>\n",
       "      <th>RSI_lag1</th>\n",
       "      <th>DX_lag1</th>\n",
       "      <th>OBV_lag1</th>\n",
       "      <th>NATR_lag1</th>\n",
       "      <th>TRANGE_lag1</th>\n",
       "      <th>CDLENGULFING_lag1</th>\n",
       "      <th>CDLHANGINGMAN_lag1</th>\n",
       "      <th>CDLSHOOTINGSTAR_lag1</th>\n",
       "      <th>CDLHAMMER_lag1</th>\n",
       "    </tr>\n",
       "  </thead>\n",
       "  <tbody>\n",
       "    <tr>\n",
       "      <th>AROONOSC_lag1</th>\n",
       "      <td>1.000000</td>\n",
       "      <td>0.751186</td>\n",
       "      <td>0.066016</td>\n",
       "      <td>0.114718</td>\n",
       "      <td>-0.177959</td>\n",
       "      <td>-0.031008</td>\n",
       "      <td>0.069388</td>\n",
       "      <td>-0.005549</td>\n",
       "      <td>-0.044710</td>\n",
       "      <td>-0.095964</td>\n",
       "    </tr>\n",
       "    <tr>\n",
       "      <th>RSI_lag1</th>\n",
       "      <td>0.751186</td>\n",
       "      <td>1.000000</td>\n",
       "      <td>0.047264</td>\n",
       "      <td>0.164944</td>\n",
       "      <td>-0.267501</td>\n",
       "      <td>-0.051737</td>\n",
       "      <td>0.166334</td>\n",
       "      <td>-0.047903</td>\n",
       "      <td>-0.067331</td>\n",
       "      <td>-0.096228</td>\n",
       "    </tr>\n",
       "    <tr>\n",
       "      <th>DX_lag1</th>\n",
       "      <td>0.066016</td>\n",
       "      <td>0.047264</td>\n",
       "      <td>1.000000</td>\n",
       "      <td>0.024605</td>\n",
       "      <td>-0.009513</td>\n",
       "      <td>0.001504</td>\n",
       "      <td>-0.015437</td>\n",
       "      <td>0.037952</td>\n",
       "      <td>-0.024863</td>\n",
       "      <td>-0.024902</td>\n",
       "    </tr>\n",
       "    <tr>\n",
       "      <th>OBV_lag1</th>\n",
       "      <td>0.114718</td>\n",
       "      <td>0.164944</td>\n",
       "      <td>0.024605</td>\n",
       "      <td>1.000000</td>\n",
       "      <td>0.095164</td>\n",
       "      <td>0.748881</td>\n",
       "      <td>0.057848</td>\n",
       "      <td>-0.010977</td>\n",
       "      <td>0.009854</td>\n",
       "      <td>-0.035679</td>\n",
       "    </tr>\n",
       "    <tr>\n",
       "      <th>NATR_lag1</th>\n",
       "      <td>-0.177959</td>\n",
       "      <td>-0.267501</td>\n",
       "      <td>-0.009513</td>\n",
       "      <td>0.095164</td>\n",
       "      <td>1.000000</td>\n",
       "      <td>0.577738</td>\n",
       "      <td>-0.083389</td>\n",
       "      <td>0.013482</td>\n",
       "      <td>0.029817</td>\n",
       "      <td>0.013423</td>\n",
       "    </tr>\n",
       "    <tr>\n",
       "      <th>TRANGE_lag1</th>\n",
       "      <td>-0.031008</td>\n",
       "      <td>-0.051737</td>\n",
       "      <td>0.001504</td>\n",
       "      <td>0.748881</td>\n",
       "      <td>0.577738</td>\n",
       "      <td>1.000000</td>\n",
       "      <td>0.009727</td>\n",
       "      <td>0.009415</td>\n",
       "      <td>0.019172</td>\n",
       "      <td>-0.033627</td>\n",
       "    </tr>\n",
       "    <tr>\n",
       "      <th>CDLENGULFING_lag1</th>\n",
       "      <td>0.069388</td>\n",
       "      <td>0.166334</td>\n",
       "      <td>-0.015437</td>\n",
       "      <td>0.057848</td>\n",
       "      <td>-0.083389</td>\n",
       "      <td>0.009727</td>\n",
       "      <td>1.000000</td>\n",
       "      <td>0.020587</td>\n",
       "      <td>0.003701</td>\n",
       "      <td>-0.018461</td>\n",
       "    </tr>\n",
       "    <tr>\n",
       "      <th>CDLHANGINGMAN_lag1</th>\n",
       "      <td>-0.005549</td>\n",
       "      <td>-0.047903</td>\n",
       "      <td>0.037952</td>\n",
       "      <td>-0.010977</td>\n",
       "      <td>0.013482</td>\n",
       "      <td>0.009415</td>\n",
       "      <td>0.020587</td>\n",
       "      <td>1.000000</td>\n",
       "      <td>-0.014302</td>\n",
       "      <td>-0.031382</td>\n",
       "    </tr>\n",
       "    <tr>\n",
       "      <th>CDLSHOOTINGSTAR_lag1</th>\n",
       "      <td>-0.044710</td>\n",
       "      <td>-0.067331</td>\n",
       "      <td>-0.024863</td>\n",
       "      <td>0.009854</td>\n",
       "      <td>0.029817</td>\n",
       "      <td>0.019172</td>\n",
       "      <td>0.003701</td>\n",
       "      <td>-0.014302</td>\n",
       "      <td>1.000000</td>\n",
       "      <td>0.019596</td>\n",
       "    </tr>\n",
       "    <tr>\n",
       "      <th>CDLHAMMER_lag1</th>\n",
       "      <td>-0.095964</td>\n",
       "      <td>-0.096228</td>\n",
       "      <td>-0.024902</td>\n",
       "      <td>-0.035679</td>\n",
       "      <td>0.013423</td>\n",
       "      <td>-0.033627</td>\n",
       "      <td>-0.018461</td>\n",
       "      <td>-0.031382</td>\n",
       "      <td>0.019596</td>\n",
       "      <td>1.000000</td>\n",
       "    </tr>\n",
       "  </tbody>\n",
       "</table>\n",
       "</div>"
      ],
      "text/plain": [
       "                      AROONOSC_lag1  RSI_lag1   DX_lag1  OBV_lag1  NATR_lag1  \\\n",
       "AROONOSC_lag1              1.000000  0.751186  0.066016  0.114718  -0.177959   \n",
       "RSI_lag1                   0.751186  1.000000  0.047264  0.164944  -0.267501   \n",
       "DX_lag1                    0.066016  0.047264  1.000000  0.024605  -0.009513   \n",
       "OBV_lag1                   0.114718  0.164944  0.024605  1.000000   0.095164   \n",
       "NATR_lag1                 -0.177959 -0.267501 -0.009513  0.095164   1.000000   \n",
       "TRANGE_lag1               -0.031008 -0.051737  0.001504  0.748881   0.577738   \n",
       "CDLENGULFING_lag1          0.069388  0.166334 -0.015437  0.057848  -0.083389   \n",
       "CDLHANGINGMAN_lag1        -0.005549 -0.047903  0.037952 -0.010977   0.013482   \n",
       "CDLSHOOTINGSTAR_lag1      -0.044710 -0.067331 -0.024863  0.009854   0.029817   \n",
       "CDLHAMMER_lag1            -0.095964 -0.096228 -0.024902 -0.035679   0.013423   \n",
       "\n",
       "                      TRANGE_lag1  CDLENGULFING_lag1  CDLHANGINGMAN_lag1  \\\n",
       "AROONOSC_lag1           -0.031008           0.069388           -0.005549   \n",
       "RSI_lag1                -0.051737           0.166334           -0.047903   \n",
       "DX_lag1                  0.001504          -0.015437            0.037952   \n",
       "OBV_lag1                 0.748881           0.057848           -0.010977   \n",
       "NATR_lag1                0.577738          -0.083389            0.013482   \n",
       "TRANGE_lag1              1.000000           0.009727            0.009415   \n",
       "CDLENGULFING_lag1        0.009727           1.000000            0.020587   \n",
       "CDLHANGINGMAN_lag1       0.009415           0.020587            1.000000   \n",
       "CDLSHOOTINGSTAR_lag1     0.019172           0.003701           -0.014302   \n",
       "CDLHAMMER_lag1          -0.033627          -0.018461           -0.031382   \n",
       "\n",
       "                      CDLSHOOTINGSTAR_lag1  CDLHAMMER_lag1  \n",
       "AROONOSC_lag1                    -0.044710       -0.095964  \n",
       "RSI_lag1                         -0.067331       -0.096228  \n",
       "DX_lag1                          -0.024863       -0.024902  \n",
       "OBV_lag1                          0.009854       -0.035679  \n",
       "NATR_lag1                         0.029817        0.013423  \n",
       "TRANGE_lag1                       0.019172       -0.033627  \n",
       "CDLENGULFING_lag1                 0.003701       -0.018461  \n",
       "CDLHANGINGMAN_lag1               -0.014302       -0.031382  \n",
       "CDLSHOOTINGSTAR_lag1              1.000000        0.019596  \n",
       "CDLHAMMER_lag1                    0.019596        1.000000  "
      ]
     },
     "metadata": {},
     "output_type": "display_data"
    },
    {
     "data": {
      "image/png": "[encoded data removed]",
      "text/plain": [
       "<Figure size 432x288 with 2 Axes>"
      ]
     },
     "metadata": {
      "needs_background": "light"
     },
     "output_type": "display_data"
    }
   ],
   "source": [
    "#Drop correlated variables ATR_lag1, RSI1_lag1 & AD_lag1\n",
    "corr=X.corr()\n",
    "display(corr)\n",
    "sns.heatmap(corr, xticklabels=corr.columns, yticklabels=corr.columns, cmap='RdBu')\n",
    "plt.title('Correlation heatmap plot.', fontsize=19,  color='red')\n",
    "plt.show()"
   ]
  },
  {
   "cell_type": "code",
   "execution_count": 27,
   "id": "1b251f74",
   "metadata": {},
   "outputs": [],
   "source": [
    "# Split Train and Test Data\n",
    "X_train, X_test, y_train, y_test = train_test_split(X,y,random_state=42)"
   ]
  },
  {
   "cell_type": "code",
   "execution_count": 155,
   "id": "07a5714f",
   "metadata": {},
   "outputs": [
    {
     "data": {
      "text/plain": [
       "array([[ 1.0923499 ,  1.55734962, -0.97360293, ...,  0.138117  ,\n",
       "         0.094585  , -0.18898224],\n",
       "       [ 0.84979135,  0.97288777,  0.77076706, ...,  0.138117  ,\n",
       "         0.094585  , -0.18898224],\n",
       "       [-0.36300142,  0.08546548, -0.31535402, ...,  0.138117  ,\n",
       "         0.094585  , -0.18898224],\n",
       "       ...,\n",
       "       [-1.57579419, -1.35129412,  0.99036114, ...,  0.138117  ,\n",
       "         0.094585  ,  5.29150262],\n",
       "       [ 1.0923499 ,  0.4163204 , -0.58607226, ...,  0.138117  ,\n",
       "         0.094585  , -0.18898224],\n",
       "       [ 0.60723279,  0.08488827, -1.58745852, ..., -7.24023844,\n",
       "         0.094585  , -0.18898224]])"
      ]
     },
     "execution_count": 155,
     "metadata": {},
     "output_type": "execute_result"
    }
   ],
   "source": [
    "#Standard Scaling training set\n",
    "sc=StandardScaler()\n",
    "X_train = sc.fit_transform(X_train)\n",
    "X_test= sc.transform(X_test)"
   ]
  },
  {
   "cell_type": "markdown",
   "id": "4a9b35e5",
   "metadata": {},
   "source": [
    "# 3.3 Support Vector Machines"
   ]
  },
  {
   "cell_type": "code",
   "execution_count": 92,
   "id": "aab0d96f",
   "metadata": {},
   "outputs": [],
   "source": [
    "#Support Vector Model\n",
    "from sklearn import svm\n",
    "svm_= svm.SVR()\n",
    "svm_.fit(X_train,y_train)\n",
    "y_predict=svm_.predict(X_test)"
   ]
  },
  {
   "cell_type": "code",
   "execution_count": 93,
   "id": "4043c91c",
   "metadata": {},
   "outputs": [
    {
     "name": "stdout",
     "output_type": "stream",
     "text": [
      "163268553.93019083\n"
     ]
    }
   ],
   "source": [
    "#Mean Squared Error\n",
    "print(mean_squared_error(y_test, y_predict))"
   ]
  },
  {
   "cell_type": "code",
   "execution_count": null,
   "id": "e5cf109d",
   "metadata": {},
   "outputs": [],
   "source": []
  },
  {
   "cell_type": "markdown",
   "id": "0a9883d6",
   "metadata": {},
   "source": [
    "# 3.4 Decision Tree Model"
   ]
  },
  {
   "cell_type": "code",
   "execution_count": 100,
   "id": "ea85c391",
   "metadata": {},
   "outputs": [],
   "source": [
    "# Decision Tree\n",
    "from sklearn import tree\n",
    "dt= tree.DecisionTreeRegressor()\n",
    "dt.fit(X_train,y_train)\n",
    "y_predict=dt.predict(X_test)"
   ]
  },
  {
   "cell_type": "code",
   "execution_count": 101,
   "id": "2e64f8e2",
   "metadata": {},
   "outputs": [
    {
     "name": "stdout",
     "output_type": "stream",
     "text": [
      "2026574.7447137102\n"
     ]
    }
   ],
   "source": [
    "print(mean_squared_error(y_test, y_predict))"
   ]
  },
  {
   "cell_type": "code",
   "execution_count": 111,
   "id": "59cf4529",
   "metadata": {},
   "outputs": [
    {
     "data": {
      "text/plain": [
       "array([0.74350217, 0.73739054, 0.64626638, 0.75827873, 0.83967345,\n",
       "       0.81252907, 0.65789309, 0.82947964, 0.66813193, 0.72894449])"
      ]
     },
     "execution_count": 111,
     "metadata": {},
     "output_type": "execute_result"
    }
   ],
   "source": [
    "#score(X_test, y_predict[,sample_weight=None])\n",
    "from sklearn.model_selection import cross_val_score\n",
    "#score(X_test, y_predict, sample_weight=None)\n",
    "cross_val_score(dt, X_test, X_test, cv=10)"
   ]
  },
  {
   "cell_type": "markdown",
   "id": "6ebd210d",
   "metadata": {},
   "source": [
    "# Ordinary Least Squares"
   ]
  },
  {
   "cell_type": "code",
   "execution_count": 72,
   "id": "06f1e88a",
   "metadata": {},
   "outputs": [],
   "source": [
    "from sklearn import linear_model\n",
    "reg = linear_model.LinearRegression()\n",
    "reg.fit(X_train,y_train)\n",
    "reg.coef_\n",
    "y_predict=reg.predict(X_test)"
   ]
  },
  {
   "cell_type": "code",
   "execution_count": 73,
   "id": "c0d0b095",
   "metadata": {},
   "outputs": [
    {
     "name": "stdout",
     "output_type": "stream",
     "text": [
      "10937309.488104336\n"
     ]
    }
   ],
   "source": [
    "print(mean_squared_error(y_test, y_predict))"
   ]
  },
  {
   "cell_type": "code",
   "execution_count": 141,
   "id": "83b3d1d6",
   "metadata": {},
   "outputs": [
    {
     "data": {
      "text/plain": [
       "array([ 2.70478989e+02,  2.57960566e+02,  1.04082800e+02,  3.79983193e+03,\n",
       "       -2.85731759e+03,  1.14688645e+04, -2.00595523e+02, -1.73805154e+01,\n",
       "       -6.24430276e+01, -6.46696225e-01])"
      ]
     },
     "execution_count": 141,
     "metadata": {},
     "output_type": "execute_result"
    }
   ],
   "source": [
    "coef=reg.coef_\n",
    "coef"
   ]
  },
  {
   "cell_type": "code",
   "execution_count": 122,
   "id": "d853052d",
   "metadata": {},
   "outputs": [],
   "source": [
    "#BTC_actual=data_scaled[['Close']]  es y\n",
    "BTC_fitted= X.dot(coef)\n",
    "#acrual values is y\n",
    "BTC_actual=y\n",
    "\n",
    "date=df['Date']"
   ]
  },
  {
   "cell_type": "code",
   "execution_count": 137,
   "id": "b20ccaad",
   "metadata": {},
   "outputs": [
    {
     "data": {
      "text/plain": [
       "0       5.251424e+13\n",
       "1       6.625246e+13\n",
       "2       7.259449e+13\n",
       "3       6.508587e+13\n",
       "4       7.271620e+13\n",
       "            ...     \n",
       "1349    6.006242e+15\n",
       "1350    6.141212e+15\n",
       "1351    6.012398e+15\n",
       "1352    6.156450e+15\n",
       "1353    6.027027e+15\n",
       "Length: 1354, dtype: float64"
      ]
     },
     "execution_count": 137,
     "metadata": {},
     "output_type": "execute_result"
    }
   ],
   "source": [
    "BTC_fitted"
   ]
  },
  {
   "cell_type": "code",
   "execution_count": 138,
   "id": "63c182a1",
   "metadata": {},
   "outputs": [
    {
     "data": {
      "text/plain": [
       "0        5647.209961\n",
       "1        5831.790039\n",
       "2        5678.189941\n",
       "3        5725.589844\n",
       "4        5605.509766\n",
       "            ...     \n",
       "1349    34649.644530\n",
       "1350    34434.335940\n",
       "1351    35867.777340\n",
       "1352    35040.835940\n",
       "1353    33572.117190\n",
       "Name: Close, Length: 1354, dtype: float64"
      ]
     },
     "execution_count": 138,
     "metadata": {},
     "output_type": "execute_result"
    }
   ],
   "source": [
    "BTC_actual"
   ]
  },
  {
   "cell_type": "code",
   "execution_count": 139,
   "id": "c4e6c611",
   "metadata": {},
   "outputs": [
    {
     "data": {
      "text/html": [
       "<div>\n",
       "<style scoped>\n",
       "    .dataframe tbody tr th:only-of-type {\n",
       "        vertical-align: middle;\n",
       "    }\n",
       "\n",
       "    .dataframe tbody tr th {\n",
       "        vertical-align: top;\n",
       "    }\n",
       "\n",
       "    .dataframe thead th {\n",
       "        text-align: right;\n",
       "    }\n",
       "</style>\n",
       "<table border=\"1\" class=\"dataframe\">\n",
       "  <thead>\n",
       "    <tr style=\"text-align: right;\">\n",
       "      <th></th>\n",
       "      <th>AROONOSC_lag1</th>\n",
       "      <th>RSI_lag1</th>\n",
       "      <th>DX_lag1</th>\n",
       "      <th>OBV_lag1</th>\n",
       "      <th>NATR_lag1</th>\n",
       "      <th>TRANGE_lag1</th>\n",
       "      <th>CDLENGULFING_lag1</th>\n",
       "      <th>CDLHANGINGMAN_lag1</th>\n",
       "      <th>CDLSHOOTINGSTAR_lag1</th>\n",
       "      <th>CDLHAMMER_lag1</th>\n",
       "    </tr>\n",
       "  </thead>\n",
       "  <tbody>\n",
       "    <tr>\n",
       "      <th>0</th>\n",
       "      <td>100.000000</td>\n",
       "      <td>95.599259</td>\n",
       "      <td>97.635023</td>\n",
       "      <td>1.382015e+10</td>\n",
       "      <td>3.627589</td>\n",
       "      <td>197.591518</td>\n",
       "      <td>0</td>\n",
       "      <td>0</td>\n",
       "      <td>0</td>\n",
       "      <td>0</td>\n",
       "    </tr>\n",
       "    <tr>\n",
       "      <th>1</th>\n",
       "      <td>100.000000</td>\n",
       "      <td>96.443426</td>\n",
       "      <td>98.942339</td>\n",
       "      <td>1.743563e+10</td>\n",
       "      <td>3.759302</td>\n",
       "      <td>212.295674</td>\n",
       "      <td>0</td>\n",
       "      <td>0</td>\n",
       "      <td>0</td>\n",
       "      <td>0</td>\n",
       "    </tr>\n",
       "    <tr>\n",
       "      <th>2</th>\n",
       "      <td>83.333333</td>\n",
       "      <td>97.065831</td>\n",
       "      <td>98.942339</td>\n",
       "      <td>1.910466e+10</td>\n",
       "      <td>3.681673</td>\n",
       "      <td>214.707416</td>\n",
       "      <td>0</td>\n",
       "      <td>0</td>\n",
       "      <td>0</td>\n",
       "      <td>0</td>\n",
       "    </tr>\n",
       "    <tr>\n",
       "      <th>3</th>\n",
       "      <td>100.000000</td>\n",
       "      <td>82.626458</td>\n",
       "      <td>21.654208</td>\n",
       "      <td>1.712862e+10</td>\n",
       "      <td>3.981483</td>\n",
       "      <td>226.076180</td>\n",
       "      <td>0</td>\n",
       "      <td>0</td>\n",
       "      <td>0</td>\n",
       "      <td>0</td>\n",
       "    </tr>\n",
       "    <tr>\n",
       "      <th>4</th>\n",
       "      <td>66.666667</td>\n",
       "      <td>83.533546</td>\n",
       "      <td>21.654208</td>\n",
       "      <td>1.913669e+10</td>\n",
       "      <td>3.955937</td>\n",
       "      <td>226.500740</td>\n",
       "      <td>0</td>\n",
       "      <td>0</td>\n",
       "      <td>0</td>\n",
       "      <td>0</td>\n",
       "    </tr>\n",
       "    <tr>\n",
       "      <th>...</th>\n",
       "      <td>...</td>\n",
       "      <td>...</td>\n",
       "      <td>...</td>\n",
       "      <td>...</td>\n",
       "      <td>...</td>\n",
       "      <td>...</td>\n",
       "      <td>...</td>\n",
       "      <td>...</td>\n",
       "      <td>...</td>\n",
       "      <td>...</td>\n",
       "    </tr>\n",
       "    <tr>\n",
       "      <th>1349</th>\n",
       "      <td>-33.333333</td>\n",
       "      <td>36.262006</td>\n",
       "      <td>73.010235</td>\n",
       "      <td>1.580660e+12</td>\n",
       "      <td>9.748112</td>\n",
       "      <td>3137.554431</td>\n",
       "      <td>0</td>\n",
       "      <td>0</td>\n",
       "      <td>0</td>\n",
       "      <td>0</td>\n",
       "    </tr>\n",
       "    <tr>\n",
       "      <th>1350</th>\n",
       "      <td>-16.666667</td>\n",
       "      <td>52.577506</td>\n",
       "      <td>38.257190</td>\n",
       "      <td>1.616180e+12</td>\n",
       "      <td>8.941048</td>\n",
       "      <td>3098.041335</td>\n",
       "      <td>0</td>\n",
       "      <td>0</td>\n",
       "      <td>0</td>\n",
       "      <td>0</td>\n",
       "    </tr>\n",
       "    <tr>\n",
       "      <th>1351</th>\n",
       "      <td>50.000000</td>\n",
       "      <td>51.202802</td>\n",
       "      <td>54.575478</td>\n",
       "      <td>1.582280e+12</td>\n",
       "      <td>8.627674</td>\n",
       "      <td>2970.882412</td>\n",
       "      <td>0</td>\n",
       "      <td>0</td>\n",
       "      <td>0</td>\n",
       "      <td>0</td>\n",
       "    </tr>\n",
       "    <tr>\n",
       "      <th>1352</th>\n",
       "      <td>50.000000</td>\n",
       "      <td>59.634569</td>\n",
       "      <td>79.718721</td>\n",
       "      <td>1.620190e+12</td>\n",
       "      <td>8.147204</td>\n",
       "      <td>2922.221168</td>\n",
       "      <td>0</td>\n",
       "      <td>0</td>\n",
       "      <td>0</td>\n",
       "      <td>0</td>\n",
       "    </tr>\n",
       "    <tr>\n",
       "      <th>1353</th>\n",
       "      <td>50.000000</td>\n",
       "      <td>53.263275</td>\n",
       "      <td>57.750084</td>\n",
       "      <td>1.586130e+12</td>\n",
       "      <td>8.149162</td>\n",
       "      <td>2855.534332</td>\n",
       "      <td>0</td>\n",
       "      <td>0</td>\n",
       "      <td>0</td>\n",
       "      <td>0</td>\n",
       "    </tr>\n",
       "  </tbody>\n",
       "</table>\n",
       "<p>1354 rows × 10 columns</p>\n",
       "</div>"
      ],
      "text/plain": [
       "      AROONOSC_lag1   RSI_lag1    DX_lag1      OBV_lag1  NATR_lag1  \\\n",
       "0        100.000000  95.599259  97.635023  1.382015e+10   3.627589   \n",
       "1        100.000000  96.443426  98.942339  1.743563e+10   3.759302   \n",
       "2         83.333333  97.065831  98.942339  1.910466e+10   3.681673   \n",
       "3        100.000000  82.626458  21.654208  1.712862e+10   3.981483   \n",
       "4         66.666667  83.533546  21.654208  1.913669e+10   3.955937   \n",
       "...             ...        ...        ...           ...        ...   \n",
       "1349     -33.333333  36.262006  73.010235  1.580660e+12   9.748112   \n",
       "1350     -16.666667  52.577506  38.257190  1.616180e+12   8.941048   \n",
       "1351      50.000000  51.202802  54.575478  1.582280e+12   8.627674   \n",
       "1352      50.000000  59.634569  79.718721  1.620190e+12   8.147204   \n",
       "1353      50.000000  53.263275  57.750084  1.586130e+12   8.149162   \n",
       "\n",
       "      TRANGE_lag1  CDLENGULFING_lag1  CDLHANGINGMAN_lag1  \\\n",
       "0      197.591518                  0                   0   \n",
       "1      212.295674                  0                   0   \n",
       "2      214.707416                  0                   0   \n",
       "3      226.076180                  0                   0   \n",
       "4      226.500740                  0                   0   \n",
       "...           ...                ...                 ...   \n",
       "1349  3137.554431                  0                   0   \n",
       "1350  3098.041335                  0                   0   \n",
       "1351  2970.882412                  0                   0   \n",
       "1352  2922.221168                  0                   0   \n",
       "1353  2855.534332                  0                   0   \n",
       "\n",
       "      CDLSHOOTINGSTAR_lag1  CDLHAMMER_lag1  \n",
       "0                        0               0  \n",
       "1                        0               0  \n",
       "2                        0               0  \n",
       "3                        0               0  \n",
       "4                        0               0  \n",
       "...                    ...             ...  \n",
       "1349                     0               0  \n",
       "1350                     0               0  \n",
       "1351                     0               0  \n",
       "1352                     0               0  \n",
       "1353                     0               0  \n",
       "\n",
       "[1354 rows x 10 columns]"
      ]
     },
     "execution_count": 139,
     "metadata": {},
     "output_type": "execute_result"
    }
   ],
   "source": [
    "X"
   ]
  },
  {
   "cell_type": "code",
   "execution_count": null,
   "id": "d7801dff",
   "metadata": {},
   "outputs": [],
   "source": []
  },
  {
   "cell_type": "code",
   "execution_count": 146,
   "id": "72147f3d",
   "metadata": {},
   "outputs": [
    {
     "data": {
      "text/plain": [
       "[<matplotlib.lines.Line2D at 0x203b3e8e5b0>]"
      ]
     },
     "execution_count": 146,
     "metadata": {},
     "output_type": "execute_result"
    },
    {
     "data": {
      "image/png": "[encoded data removed]",
      "text/plain": [
       "<Figure size 432x288 with 1 Axes>"
      ]
     },
     "metadata": {
      "needs_background": "light"
     },
     "output_type": "display_data"
    }
   ],
   "source": [
    "#Comparisson of BTC actual values and predicted values\n",
    "#plt.figure(figsize=(14, 8))\n",
    "#plt.plot(BTC_fitted.index, BTC_fitted, c='darkblue',label='Predicted Value')\n",
    "plt.plot(BTC_fitted.index, BTC_actual, c='red',label='Actual BTC Value')\n",
    "#plt.legend(prop=dict(size=15))\n",
    "#plt.xlabel('DATE', fontsize=15)\n",
    "#plt.show()"
   ]
  },
  {
   "cell_type": "code",
   "execution_count": 121,
   "id": "d6a793fd",
   "metadata": {},
   "outputs": [
    {
     "data": {
      "text/plain": [
       "0       5.251424e+13\n",
       "1       6.625246e+13\n",
       "2       7.259449e+13\n",
       "3       6.508587e+13\n",
       "4       7.271620e+13\n",
       "            ...     \n",
       "1349    6.006242e+15\n",
       "1350    6.141212e+15\n",
       "1351    6.012398e+15\n",
       "1352    6.156450e+15\n",
       "1353    6.027027e+15\n",
       "Length: 1354, dtype: float64"
      ]
     },
     "execution_count": 121,
     "metadata": {},
     "output_type": "execute_result"
    }
   ],
   "source": [
    "BTC_fitted"
   ]
  },
  {
   "cell_type": "markdown",
   "id": "9e1433b3",
   "metadata": {},
   "source": [
    "# Bayesian Regression¶"
   ]
  },
  {
   "cell_type": "code",
   "execution_count": 148,
   "id": "0ae87f71",
   "metadata": {},
   "outputs": [],
   "source": [
    "from sklearn import linear_model\n",
    "reg = linear_model.BayesianRidge()\n",
    "reg.fit(X_train,y_train)\n",
    "y_predict=reg.predict(X_test)"
   ]
  },
  {
   "cell_type": "code",
   "execution_count": 149,
   "id": "05e9a171",
   "metadata": {},
   "outputs": [
    {
     "name": "stdout",
     "output_type": "stream",
     "text": [
      "10916266.716870684\n"
     ]
    }
   ],
   "source": [
    "print(mean_squared_error(y_test, y_predict))"
   ]
  },
  {
   "cell_type": "code",
   "execution_count": 150,
   "id": "5a0d81c7",
   "metadata": {},
   "outputs": [],
   "source": [
    "coef=reg.coef_"
   ]
  },
  {
   "cell_type": "code",
   "execution_count": 151,
   "id": "34ba2172",
   "metadata": {},
   "outputs": [],
   "source": [
    "#BTC_actual=data_scaled[['Close']]  es y\n",
    "BTC_fitted= X.dot(coef)\n",
    "#acrual values is y\n",
    "BTC_actual=y"
   ]
  },
  {
   "cell_type": "code",
   "execution_count": 154,
   "id": "c46010a0",
   "metadata": {},
   "outputs": [
    {
     "data": {
      "text/plain": [
       "[<matplotlib.lines.Line2D at 0x203b1897d00>]"
      ]
     },
     "execution_count": 154,
     "metadata": {},
     "output_type": "execute_result"
    },
    {
     "data": {
      "image/png": "[encoded data removed]",
      "text/plain": [
       "<Figure size 432x288 with 1 Axes>"
      ]
     },
     "metadata": {
      "needs_background": "light"
     },
     "output_type": "display_data"
    }
   ],
   "source": [
    "#Comparisson of BTC actual values and predicted values\n",
    "#plt.figure(figsize=(14, 8))\n",
    "#plt.plot(BTC_fitted.index, BTC_fitted, c='darkblue',label='Predicted Value')\n",
    "plt.plot(BTC_fitted.index, BTC_actual, c='red',label='Actual BTC Value')\n",
    "#plt.legend(prop=dict(size=15))\n",
    "#plt.xlabel('DATE', fontsize=15)\n",
    "#plt.show()"
   ]
  },
  {
   "cell_type": "code",
   "execution_count": null,
   "id": "360d720f",
   "metadata": {},
   "outputs": [],
   "source": []
  },
  {
   "cell_type": "markdown",
   "id": "1ac939c0",
   "metadata": {},
   "source": [
    "# ElasticNet "
   ]
  },
  {
   "cell_type": "code",
   "execution_count": 142,
   "id": "9c6a54d1",
   "metadata": {},
   "outputs": [],
   "source": [
    "from sklearn.linear_model import ElasticNet\n",
    "model = ElasticNet(alpha=0.0001, l1_ratio=0.5,normalize=False)\n",
    "model.fit(X_train, y_train)\n",
    "y_predict=reg.predict(X_test)"
   ]
  },
  {
   "cell_type": "code",
   "execution_count": 143,
   "id": "b882ddc1",
   "metadata": {},
   "outputs": [
    {
     "name": "stdout",
     "output_type": "stream",
     "text": [
      "10916266.716870684\n"
     ]
    }
   ],
   "source": [
    "print(mean_squared_error(y_test, y_predict))"
   ]
  },
  {
   "cell_type": "code",
   "execution_count": 144,
   "id": "83670c70",
   "metadata": {},
   "outputs": [
    {
     "data": {
      "text/plain": [
       "array([ 2.69263315e+02,  2.59474428e+02,  1.04308226e+02,  3.76963049e+03,\n",
       "       -2.88395764e+03,  1.15162019e+04, -2.01805573e+02, -1.80978355e+01,\n",
       "       -6.27440087e+01,  6.10687394e-01])"
      ]
     },
     "execution_count": 144,
     "metadata": {},
     "output_type": "execute_result"
    }
   ],
   "source": [
    "model.coef_"
   ]
  },
  {
   "cell_type": "code",
   "execution_count": 348,
   "id": "e9ee4f3a",
   "metadata": {},
   "outputs": [],
   "source": []
  },
  {
   "cell_type": "code",
   "execution_count": null,
   "id": "3e0883a8",
   "metadata": {},
   "outputs": [],
   "source": []
  },
  {
   "cell_type": "code",
   "execution_count": 586,
   "id": "ed451648",
   "metadata": {},
   "outputs": [
    {
     "name": "stdout",
     "output_type": "stream",
     "text": [
      "AROONOSC_lag1 : 0.0034852923505982103\n",
      "RSI_lag1 : -0.0\n",
      "RSI1_lag1 : 0.01142857285654937\n",
      "DX_lag1 : 0.0038680399481646906\n",
      "AD_lag1 : 0.10642634384873408\n",
      "OBV_lag1 : 0.07328293186382188\n",
      "ATR_lag1 : 0.06474945481246612\n",
      "NATR_lag1 : -0.1511765509819744\n",
      "TRANGE_lag1 : 0.7826581067274684\n",
      "CDLENGULFING_lag1 : -0.002606840947162683\n",
      "CDLHANGINGMAN_lag1 : 0.00017576926266141138\n",
      "CDLSHOOTINGSTAR_lag1 : 5.4012996158095144e-05\n",
      "CDLHAMMER_lag1 : 0.0002688964817339358\n"
     ]
    }
   ],
   "source": [
    "#Coefficients for each variable\n",
    "coef = list(model.coef_)\n",
    "count = 0\n",
    "for i in X.columns:\n",
    "    print(i,':',coef[count])\n",
    "    count+= 1"
   ]
  },
  {
   "cell_type": "code",
   "execution_count": 587,
   "id": "2f2a0305",
   "metadata": {},
   "outputs": [
    {
     "data": {
      "text/plain": [
       "Date\n",
       "2021-06-27    1.986563\n",
       "2021-06-28    2.009079\n",
       "2021-06-29    1.914264\n",
       "2021-06-30    1.913477\n",
       "2021-07-01    1.846690\n",
       "dtype: float64"
      ]
     },
     "execution_count": 587,
     "metadata": {},
     "output_type": "execute_result"
    }
   ],
   "source": [
    "#Forecast Values of BTC\n",
    "BTC_fitted= X.dot(coef)\n",
    "BTC_fitted.tail()"
   ]
  },
  {
   "cell_type": "code",
   "execution_count": 588,
   "id": "d54c4638",
   "metadata": {},
   "outputs": [
    {
     "data": {
      "text/html": [
       "<div>\n",
       "<style scoped>\n",
       "    .dataframe tbody tr th:only-of-type {\n",
       "        vertical-align: middle;\n",
       "    }\n",
       "\n",
       "    .dataframe tbody tr th {\n",
       "        vertical-align: top;\n",
       "    }\n",
       "\n",
       "    .dataframe thead th {\n",
       "        text-align: right;\n",
       "    }\n",
       "</style>\n",
       "<table border=\"1\" class=\"dataframe\">\n",
       "  <thead>\n",
       "    <tr style=\"text-align: right;\">\n",
       "      <th></th>\n",
       "      <th>Close</th>\n",
       "    </tr>\n",
       "    <tr>\n",
       "      <th>Date</th>\n",
       "      <th></th>\n",
       "    </tr>\n",
       "  </thead>\n",
       "  <tbody>\n",
       "    <tr>\n",
       "      <th>2021-06-27</th>\n",
       "      <td>1.533786</td>\n",
       "    </tr>\n",
       "    <tr>\n",
       "      <th>2021-06-28</th>\n",
       "      <td>1.517965</td>\n",
       "    </tr>\n",
       "    <tr>\n",
       "      <th>2021-06-29</th>\n",
       "      <td>1.623294</td>\n",
       "    </tr>\n",
       "    <tr>\n",
       "      <th>2021-06-30</th>\n",
       "      <td>1.562531</td>\n",
       "    </tr>\n",
       "    <tr>\n",
       "      <th>2021-07-01</th>\n",
       "      <td>1.454610</td>\n",
       "    </tr>\n",
       "  </tbody>\n",
       "</table>\n",
       "</div>"
      ],
      "text/plain": [
       "               Close\n",
       "Date                \n",
       "2021-06-27  1.533786\n",
       "2021-06-28  1.517965\n",
       "2021-06-29  1.623294\n",
       "2021-06-30  1.562531\n",
       "2021-07-01  1.454610"
      ]
     },
     "execution_count": 588,
     "metadata": {},
     "output_type": "execute_result"
    }
   ],
   "source": [
    "#Actual Values of BTC (scaled)\n",
    "BTC_actual=data_scaled[['Close']]\n",
    "BTC_actual.tail()"
   ]
  },
  {
   "cell_type": "code",
   "execution_count": 589,
   "id": "96fea3cc",
   "metadata": {},
   "outputs": [
    {
     "data": {
      "text/plain": [
       "Text(0.5, 0, 'DATE')"
      ]
     },
     "execution_count": 589,
     "metadata": {},
     "output_type": "execute_result"
    },
    {
     "data": {
      "image/png": "[encoded data removed]",
      "text/plain": [
       "<Figure size 1008x576 with 1 Axes>"
      ]
     },
     "metadata": {
      "needs_background": "light"
     },
     "output_type": "display_data"
    }
   ],
   "source": [
    "#Comparisson of BTC actual values and predicted values\n",
    "plt.figure(figsize=(14, 8))\n",
    "plt.plot(data_scaled.index, BTC_fitted, c='darkblue',label='Predicted Value')\n",
    "plt.plot(data_scaled.index, BTC_actual, c='red',label='Actual BTC Value')\n",
    "plt.legend(prop=dict(size=15))\n",
    "plt.xlabel('DATE', fontsize=15)"
   ]
  },
  {
   "cell_type": "markdown",
   "id": "e131decd",
   "metadata": {},
   "source": [
    "### Mean Squared Error"
   ]
  },
  {
   "cell_type": "code",
   "execution_count": 509,
   "id": "1085cf33",
   "metadata": {},
   "outputs": [],
   "source": [
    "y=BTC_actual\n",
    "X=BTC_fitted"
   ]
  },
  {
   "cell_type": "code",
   "execution_count": 510,
   "id": "53b0f063",
   "metadata": {},
   "outputs": [],
   "source": [
    "y=y.values.reshape(-1,1)\n",
    "X=X.values.reshape(-1,1)"
   ]
  },
  {
   "cell_type": "code",
   "execution_count": 511,
   "id": "456c4583",
   "metadata": {},
   "outputs": [
    {
     "data": {
      "text/plain": [
       "0.07050027810552596"
      ]
     },
     "execution_count": 511,
     "metadata": {},
     "output_type": "execute_result"
    }
   ],
   "source": [
    "#Mean Squared Error\n",
    "SR= np.square(X-y)\n",
    "MSE= np.sum(SR)/len(data)\n",
    "MSE"
   ]
  }
 ],
 "metadata": {
  "kernelspec": {
   "display_name": "Python 3",
   "language": "python",
   "name": "python3"
  },
  "language_info": {
   "codemirror_mode": {
    "name": "ipython",
    "version": 3
   },
   "file_extension": ".py",
   "mimetype": "text/x-python",
   "name": "python",
   "nbconvert_exporter": "python",
   "pygments_lexer": "ipython3",
   "version": "3.9.5"
  }
 },
 "nbformat": 4,
 "nbformat_minor": 5
}
