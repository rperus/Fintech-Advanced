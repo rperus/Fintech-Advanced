{
 "cells": [
  {
   "cell_type": "code",
   "execution_count": 56,
   "metadata": {},
   "outputs": [],
   "source": [
    "import numpy as np\n",
    "import matplotlib.pyplot as plt\n",
    "import quandl \n",
    "import requests \n",
    "import json \n",
    "import pandas as pd \n",
    "import datetime \n"
   ]
  },
  {
   "cell_type": "markdown",
   "metadata": {},
   "source": [
    "# 2 Time Series Gradient Descent Exercise in Python"
   ]
  },
  {
   "cell_type": "markdown",
   "metadata": {},
   "source": [
    "## OLS estimates  from standard OLS formula"
   ]
  },
  {
   "cell_type": "markdown",
   "metadata": {},
   "source": [
    "Bitcoin Daily Time series from 2016-01-01 to 2021-01-01 using QUANDL API"
   ]
  },
  {
   "cell_type": "code",
   "execution_count": 252,
   "metadata": {},
   "outputs": [
    {
     "data": {
      "text/html": [
       "<div>\n",
       "<style scoped>\n",
       "    .dataframe tbody tr th:only-of-type {\n",
       "        vertical-align: middle;\n",
       "    }\n",
       "\n",
       "    .dataframe tbody tr th {\n",
       "        vertical-align: top;\n",
       "    }\n",
       "\n",
       "    .dataframe thead th {\n",
       "        text-align: right;\n",
       "    }\n",
       "</style>\n",
       "<table border=\"1\" class=\"dataframe\">\n",
       "  <thead>\n",
       "    <tr style=\"text-align: right;\">\n",
       "      <th></th>\n",
       "      <th>High</th>\n",
       "      <th>Low</th>\n",
       "      <th>Mid</th>\n",
       "      <th>Last</th>\n",
       "      <th>Bid</th>\n",
       "      <th>Ask</th>\n",
       "      <th>Volume</th>\n",
       "    </tr>\n",
       "    <tr>\n",
       "      <th>Date</th>\n",
       "      <th></th>\n",
       "      <th></th>\n",
       "      <th></th>\n",
       "      <th></th>\n",
       "      <th></th>\n",
       "      <th></th>\n",
       "      <th></th>\n",
       "    </tr>\n",
       "  </thead>\n",
       "  <tbody>\n",
       "    <tr>\n",
       "      <th>2018-01-01</th>\n",
       "      <td>14210.000000</td>\n",
       "      <td>12166.00000</td>\n",
       "      <td>13763.5</td>\n",
       "      <td>13769.000000</td>\n",
       "      <td>13757.0</td>\n",
       "      <td>13770.0</td>\n",
       "      <td>43269.641316</td>\n",
       "    </tr>\n",
       "    <tr>\n",
       "      <th>2018-01-02</th>\n",
       "      <td>13893.000000</td>\n",
       "      <td>12777.00000</td>\n",
       "      <td>13371.0</td>\n",
       "      <td>13375.000000</td>\n",
       "      <td>13366.0</td>\n",
       "      <td>13376.0</td>\n",
       "      <td>29564.886984</td>\n",
       "    </tr>\n",
       "    <tr>\n",
       "      <th>2018-01-03</th>\n",
       "      <td>15500.000000</td>\n",
       "      <td>12795.00000</td>\n",
       "      <td>14715.0</td>\n",
       "      <td>14723.095748</td>\n",
       "      <td>14712.0</td>\n",
       "      <td>14718.0</td>\n",
       "      <td>56195.098685</td>\n",
       "    </tr>\n",
       "    <tr>\n",
       "      <th>2018-01-04</th>\n",
       "      <td>15428.830919</td>\n",
       "      <td>14500.00000</td>\n",
       "      <td>15150.5</td>\n",
       "      <td>15134.000000</td>\n",
       "      <td>15150.0</td>\n",
       "      <td>15151.0</td>\n",
       "      <td>38358.561067</td>\n",
       "    </tr>\n",
       "    <tr>\n",
       "      <th>2018-01-05</th>\n",
       "      <td>15422.157853</td>\n",
       "      <td>14060.00000</td>\n",
       "      <td>15169.0</td>\n",
       "      <td>15175.000000</td>\n",
       "      <td>15163.0</td>\n",
       "      <td>15175.0</td>\n",
       "      <td>46460.131601</td>\n",
       "    </tr>\n",
       "    <tr>\n",
       "      <th>...</th>\n",
       "      <td>...</td>\n",
       "      <td>...</td>\n",
       "      <td>...</td>\n",
       "      <td>...</td>\n",
       "      <td>...</td>\n",
       "      <td>...</td>\n",
       "      <td>...</td>\n",
       "    </tr>\n",
       "    <tr>\n",
       "      <th>2020-12-28</th>\n",
       "      <td>27442.000000</td>\n",
       "      <td>26068.06572</td>\n",
       "      <td>27093.5</td>\n",
       "      <td>27094.000000</td>\n",
       "      <td>27093.0</td>\n",
       "      <td>27094.0</td>\n",
       "      <td>7588.070037</td>\n",
       "    </tr>\n",
       "    <tr>\n",
       "      <th>2020-12-29</th>\n",
       "      <td>27228.000000</td>\n",
       "      <td>25859.00000</td>\n",
       "      <td>27227.5</td>\n",
       "      <td>27228.000000</td>\n",
       "      <td>27227.0</td>\n",
       "      <td>27228.0</td>\n",
       "      <td>8583.817753</td>\n",
       "    </tr>\n",
       "    <tr>\n",
       "      <th>2020-12-30</th>\n",
       "      <td>28977.000000</td>\n",
       "      <td>27312.00000</td>\n",
       "      <td>28808.0</td>\n",
       "      <td>28805.000000</td>\n",
       "      <td>28805.0</td>\n",
       "      <td>28811.0</td>\n",
       "      <td>10498.332980</td>\n",
       "    </tr>\n",
       "    <tr>\n",
       "      <th>2020-12-31</th>\n",
       "      <td>29286.000000</td>\n",
       "      <td>27557.00000</td>\n",
       "      <td>28948.5</td>\n",
       "      <td>28948.000000</td>\n",
       "      <td>28948.0</td>\n",
       "      <td>28949.0</td>\n",
       "      <td>12179.992113</td>\n",
       "    </tr>\n",
       "    <tr>\n",
       "      <th>2021-01-01</th>\n",
       "      <td>29620.000000</td>\n",
       "      <td>28716.00000</td>\n",
       "      <td>29310.5</td>\n",
       "      <td>29311.114000</td>\n",
       "      <td>29308.0</td>\n",
       "      <td>29313.0</td>\n",
       "      <td>8327.347702</td>\n",
       "    </tr>\n",
       "  </tbody>\n",
       "</table>\n",
       "<p>1072 rows × 7 columns</p>\n",
       "</div>"
      ],
      "text/plain": [
       "                    High          Low      Mid          Last      Bid  \\\n",
       "Date                                                                    \n",
       "2018-01-01  14210.000000  12166.00000  13763.5  13769.000000  13757.0   \n",
       "2018-01-02  13893.000000  12777.00000  13371.0  13375.000000  13366.0   \n",
       "2018-01-03  15500.000000  12795.00000  14715.0  14723.095748  14712.0   \n",
       "2018-01-04  15428.830919  14500.00000  15150.5  15134.000000  15150.0   \n",
       "2018-01-05  15422.157853  14060.00000  15169.0  15175.000000  15163.0   \n",
       "...                  ...          ...      ...           ...      ...   \n",
       "2020-12-28  27442.000000  26068.06572  27093.5  27094.000000  27093.0   \n",
       "2020-12-29  27228.000000  25859.00000  27227.5  27228.000000  27227.0   \n",
       "2020-12-30  28977.000000  27312.00000  28808.0  28805.000000  28805.0   \n",
       "2020-12-31  29286.000000  27557.00000  28948.5  28948.000000  28948.0   \n",
       "2021-01-01  29620.000000  28716.00000  29310.5  29311.114000  29308.0   \n",
       "\n",
       "                Ask        Volume  \n",
       "Date                               \n",
       "2018-01-01  13770.0  43269.641316  \n",
       "2018-01-02  13376.0  29564.886984  \n",
       "2018-01-03  14718.0  56195.098685  \n",
       "2018-01-04  15151.0  38358.561067  \n",
       "2018-01-05  15175.0  46460.131601  \n",
       "...             ...           ...  \n",
       "2020-12-28  27094.0   7588.070037  \n",
       "2020-12-29  27228.0   8583.817753  \n",
       "2020-12-30  28811.0  10498.332980  \n",
       "2020-12-31  28949.0  12179.992113  \n",
       "2021-01-01  29313.0   8327.347702  \n",
       "\n",
       "[1072 rows x 7 columns]"
      ]
     },
     "execution_count": 252,
     "metadata": {},
     "output_type": "execute_result"
    }
   ],
   "source": [
    "#Obtain BTC prices from Qualdl \n",
    "quandl.ApiConfig.api_key = 'a9NejCNZWKHWyyWRQ2wP'\n",
    "x =quandl.get('BITFINEX/BTCUSD', start_date='2018-01-01', end_date='2021-01-01')\n",
    "x"
   ]
  },
  {
   "cell_type": "code",
   "execution_count": 251,
   "metadata": {},
   "outputs": [
    {
     "data": {
      "text/plain": [
       "array([[14210.],\n",
       "       [13893.],\n",
       "       [15500.],\n",
       "       ...,\n",
       "       [28977.],\n",
       "       [29286.],\n",
       "       [29620.]])"
      ]
     },
     "execution_count": 251,
     "metadata": {},
     "output_type": "execute_result"
    }
   ],
   "source": [
    "#Select the column with the highest price of the day\n",
    "x=x[['High']]\n",
    "#Convert it to a Numpy Array\n",
    "x=np.array(x)\n",
    "type(x)\n",
    "x"
   ]
  },
  {
   "cell_type": "code",
   "execution_count": 234,
   "metadata": {},
   "outputs": [
    {
     "data": {
      "text/plain": [
       "(1072, 1)"
      ]
     },
     "execution_count": 234,
     "metadata": {},
     "output_type": "execute_result"
    }
   ],
   "source": [
    "# Number of days in the Array\n",
    "x.shape"
   ]
  },
  {
   "cell_type": "markdown",
   "metadata": {},
   "source": [
    "Etherium Daily Time series from 2016-01-01 to 2021-01-01 using CRYPTOCOMPARE API"
   ]
  },
  {
   "cell_type": "code",
   "execution_count": 235,
   "metadata": {},
   "outputs": [
    {
     "data": {
      "text/plain": [
       "'https://min-api.cryptocompare.com/data/histoday?fsym=ETH&tsym=USD&limit=2000&api_key=C370e1baf8f2aedafb5e730b7c103cf0ff064111eca3b0860878dcf47ec2457e'"
      ]
     },
     "execution_count": 235,
     "metadata": {},
     "output_type": "execute_result"
    }
   ],
   "source": [
    "#Obtain BTC prices from Cryptocompare for the last 2000days\n",
    "my_crypto_key = \"C370e1baf8f2aedafb5e730b7c103cf0ff064111eca3b0860878dcf47ec2457e\"\n",
    "URL_A = 'https://min-api.cryptocompare.com/data/histoday?fsym=ETH&tsym=USD&limit=2000&api_key=' \n",
    "URL = URL_A + my_crypto_key \n",
    "URL"
   ]
  },
  {
   "cell_type": "code",
   "execution_count": 249,
   "metadata": {},
   "outputs": [
    {
     "data": {
      "text/html": [
       "<div>\n",
       "<style scoped>\n",
       "    .dataframe tbody tr th:only-of-type {\n",
       "        vertical-align: middle;\n",
       "    }\n",
       "\n",
       "    .dataframe tbody tr th {\n",
       "        vertical-align: top;\n",
       "    }\n",
       "\n",
       "    .dataframe thead th {\n",
       "        text-align: right;\n",
       "    }\n",
       "</style>\n",
       "<table border=\"1\" class=\"dataframe\">\n",
       "  <thead>\n",
       "    <tr style=\"text-align: right;\">\n",
       "      <th></th>\n",
       "      <th>time</th>\n",
       "      <th>high</th>\n",
       "    </tr>\n",
       "  </thead>\n",
       "  <tbody>\n",
       "    <tr>\n",
       "      <th>701</th>\n",
       "      <td>2018-01-01</td>\n",
       "      <td>766.49</td>\n",
       "    </tr>\n",
       "    <tr>\n",
       "      <th>702</th>\n",
       "      <td>2018-01-02</td>\n",
       "      <td>882.61</td>\n",
       "    </tr>\n",
       "    <tr>\n",
       "      <th>703</th>\n",
       "      <td>2018-01-03</td>\n",
       "      <td>951.70</td>\n",
       "    </tr>\n",
       "    <tr>\n",
       "      <th>704</th>\n",
       "      <td>2018-01-04</td>\n",
       "      <td>997.44</td>\n",
       "    </tr>\n",
       "    <tr>\n",
       "      <th>705</th>\n",
       "      <td>2018-01-05</td>\n",
       "      <td>1165.81</td>\n",
       "    </tr>\n",
       "    <tr>\n",
       "      <th>...</th>\n",
       "      <td>...</td>\n",
       "      <td>...</td>\n",
       "    </tr>\n",
       "    <tr>\n",
       "      <th>1793</th>\n",
       "      <td>2020-12-28</td>\n",
       "      <td>746.88</td>\n",
       "    </tr>\n",
       "    <tr>\n",
       "      <th>1794</th>\n",
       "      <td>2020-12-29</td>\n",
       "      <td>739.39</td>\n",
       "    </tr>\n",
       "    <tr>\n",
       "      <th>1795</th>\n",
       "      <td>2020-12-30</td>\n",
       "      <td>758.27</td>\n",
       "    </tr>\n",
       "    <tr>\n",
       "      <th>1796</th>\n",
       "      <td>2020-12-31</td>\n",
       "      <td>755.68</td>\n",
       "    </tr>\n",
       "    <tr>\n",
       "      <th>1797</th>\n",
       "      <td>2021-01-01</td>\n",
       "      <td>749.71</td>\n",
       "    </tr>\n",
       "  </tbody>\n",
       "</table>\n",
       "<p>1097 rows × 2 columns</p>\n",
       "</div>"
      ],
      "text/plain": [
       "           time     high\n",
       "701  2018-01-01   766.49\n",
       "702  2018-01-02   882.61\n",
       "703  2018-01-03   951.70\n",
       "704  2018-01-04   997.44\n",
       "705  2018-01-05  1165.81\n",
       "...         ...      ...\n",
       "1793 2020-12-28   746.88\n",
       "1794 2020-12-29   739.39\n",
       "1795 2020-12-30   758.27\n",
       "1796 2020-12-31   755.68\n",
       "1797 2021-01-01   749.71\n",
       "\n",
       "[1097 rows x 2 columns]"
      ]
     },
     "execution_count": 249,
     "metadata": {},
     "output_type": "execute_result"
    }
   ],
   "source": [
    "#Convert Jason to a DataFrame\n",
    "data = requests.get(URL) \n",
    "json_data = data.json() \n",
    "table = pd.json_normalize(json_data, 'Data').set_index('time')\n",
    "table.index = pd.to_datetime(table.index , unit='s')\n",
    "#Select the highest price and the date from 2016-01-01 to 2021-01-01\n",
    "y=table[['high']]\n",
    "y=y.reset_index()\n",
    "start_date = \"2018-01-01\"\n",
    "end_date = \"2021-01-01\"\n",
    "after_start_date = y['time'] >= start_date\n",
    "before_end_date = y['time'] <= end_date\n",
    "y = y.loc[after_start_date & before_end_date]\n",
    "#y=y[['high']]\n",
    "#Convert it to a Numpy Array\n",
    "#y=np.array(y)\n",
    "y"
   ]
  },
  {
   "cell_type": "code",
   "execution_count": 245,
   "metadata": {},
   "outputs": [
    {
     "data": {
      "text/html": [
       "<div>\n",
       "<style scoped>\n",
       "    .dataframe tbody tr th:only-of-type {\n",
       "        vertical-align: middle;\n",
       "    }\n",
       "\n",
       "    .dataframe tbody tr th {\n",
       "        vertical-align: top;\n",
       "    }\n",
       "\n",
       "    .dataframe thead th {\n",
       "        text-align: right;\n",
       "    }\n",
       "</style>\n",
       "<table border=\"1\" class=\"dataframe\">\n",
       "  <thead>\n",
       "    <tr style=\"text-align: right;\">\n",
       "      <th></th>\n",
       "      <th>high</th>\n",
       "    </tr>\n",
       "  </thead>\n",
       "  <tbody>\n",
       "    <tr>\n",
       "      <th>701</th>\n",
       "      <td>766.49</td>\n",
       "    </tr>\n",
       "    <tr>\n",
       "      <th>702</th>\n",
       "      <td>882.61</td>\n",
       "    </tr>\n",
       "    <tr>\n",
       "      <th>703</th>\n",
       "      <td>951.70</td>\n",
       "    </tr>\n",
       "    <tr>\n",
       "      <th>704</th>\n",
       "      <td>997.44</td>\n",
       "    </tr>\n",
       "    <tr>\n",
       "      <th>705</th>\n",
       "      <td>1165.81</td>\n",
       "    </tr>\n",
       "    <tr>\n",
       "      <th>...</th>\n",
       "      <td>...</td>\n",
       "    </tr>\n",
       "    <tr>\n",
       "      <th>1793</th>\n",
       "      <td>746.88</td>\n",
       "    </tr>\n",
       "    <tr>\n",
       "      <th>1794</th>\n",
       "      <td>739.39</td>\n",
       "    </tr>\n",
       "    <tr>\n",
       "      <th>1795</th>\n",
       "      <td>758.27</td>\n",
       "    </tr>\n",
       "    <tr>\n",
       "      <th>1796</th>\n",
       "      <td>755.68</td>\n",
       "    </tr>\n",
       "    <tr>\n",
       "      <th>1797</th>\n",
       "      <td>749.71</td>\n",
       "    </tr>\n",
       "  </tbody>\n",
       "</table>\n",
       "<p>1097 rows × 1 columns</p>\n",
       "</div>"
      ],
      "text/plain": [
       "         high\n",
       "701    766.49\n",
       "702    882.61\n",
       "703    951.70\n",
       "704    997.44\n",
       "705   1165.81\n",
       "...       ...\n",
       "1793   746.88\n",
       "1794   739.39\n",
       "1795   758.27\n",
       "1796   755.68\n",
       "1797   749.71\n",
       "\n",
       "[1097 rows x 1 columns]"
      ]
     },
     "execution_count": 245,
     "metadata": {},
     "output_type": "execute_result"
    }
   ],
   "source": [
    "y=y[['high']]\n",
    "y"
   ]
  },
  {
   "cell_type": "code",
   "execution_count": 239,
   "metadata": {},
   "outputs": [
    {
     "data": {
      "text/plain": [
       "(1072, 1)"
      ]
     },
     "execution_count": 239,
     "metadata": {},
     "output_type": "execute_result"
    }
   ],
   "source": [
    "x.shape\n"
   ]
  },
  {
   "cell_type": "code",
   "execution_count": 246,
   "metadata": {},
   "outputs": [
    {
     "data": {
      "text/plain": [
       "(1097, 1)"
      ]
     },
     "execution_count": 246,
     "metadata": {},
     "output_type": "execute_result"
    }
   ],
   "source": [
    "y.shape"
   ]
  },
  {
   "cell_type": "code",
   "execution_count": 224,
   "metadata": {},
   "outputs": [
    {
     "data": {
      "text/plain": [
       "<matplotlib.collections.PathCollection at 0x167d43db1f0>"
      ]
     },
     "execution_count": 224,
     "metadata": {},
     "output_type": "execute_result"
    },
    {
     "data": {
      "image/png": "[encoded data removed]",
      "text/plain": [
       "<Figure size 432x288 with 1 Axes>"
      ]
     },
     "metadata": {
      "needs_background": "light"
     },
     "output_type": "display_data"
    }
   ],
   "source": [
    "plt.scatter(x,y,alpha=.3)"
   ]
  },
  {
   "cell_type": "code",
   "execution_count": null,
   "metadata": {},
   "outputs": [],
   "source": []
  },
  {
   "cell_type": "code",
   "execution_count": null,
   "metadata": {},
   "outputs": [],
   "source": []
  },
  {
   "cell_type": "code",
   "execution_count": null,
   "metadata": {},
   "outputs": [],
   "source": []
  },
  {
   "cell_type": "code",
   "execution_count": 148,
   "metadata": {},
   "outputs": [],
   "source": [
    "#coins = pd.concat([coins, table.high],  axis=1) \n",
    "#coins.columns = pair \n",
    "#coins"
   ]
  },
  {
   "cell_type": "code",
   "execution_count": null,
   "metadata": {},
   "outputs": [],
   "source": []
  }
 ],
 "metadata": {
  "kernelspec": {
   "display_name": "Python 3",
   "language": "python",
   "name": "python3"
  },
  "language_info": {
   "codemirror_mode": {
    "name": "ipython",
    "version": 3
   },
   "file_extension": ".py",
   "mimetype": "text/x-python",
   "name": "python",
   "nbconvert_exporter": "python",
   "pygments_lexer": "ipython3",
   "version": "3.8.5"
  }
 },
 "nbformat": 4,
 "nbformat_minor": 4
}
